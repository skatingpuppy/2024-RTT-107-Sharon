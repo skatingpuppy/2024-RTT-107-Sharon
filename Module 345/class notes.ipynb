{
 "cells": [
  {
   "cell_type": "code",
   "execution_count": 1,
   "metadata": {},
   "outputs": [],
   "source": [
    "import findspark\n",
    "findspark.init()\n",
    "\n",
    "import pyspark\n",
    "from pyspark.sql import SparkSession\n",
    "spark = SparkSession.builder.master(\"local[1]\").appName(\"SparkByExamples.com\").getOrCreate()"
   ]
  },
  {
   "cell_type": "code",
   "execution_count": 3,
   "metadata": {},
   "outputs": [
    {
     "name": "stdout",
     "output_type": "stream",
     "text": [
      "[['The', 'history', 'of', 'New', 'York', 'begins', 'around', '10,000', 'BC,', 'when', 'the', 'first', 'Native', 'Americans', 'arrived.', 'By', '1100', 'AD,', 'New', \"York's\", 'main', 'native', 'cultures,', 'the', 'Iroquoian', 'and', 'Algonquian,', 'had', 'developed.', 'European', 'discovery', 'of', 'New', 'York', 'was', 'led', 'by', 'the', 'French', 'in', '1524', 'and', 'the', 'first', 'land', 'claim', 'came', 'in', '1609', 'by', 'the', 'Dutch.', 'As', 'part', 'of', 'New', 'Netherland,', 'the', 'colony', 'was', 'important', 'in', 'the', 'fur', 'trade', 'and', 'eventually', 'became', 'an', 'agricultural', 'resource', 'thanks', 'to', 'the', 'patroon', 'system.', 'In', '1626', 'the', 'Dutch', 'bought', 'the', 'island', 'of', 'Manhattan', 'from', 'Native', 'Americans.[1]', 'In', '1664,', 'England', 'renamed', 'the', 'colony', 'New', 'York,', 'after', 'the', 'Duke', 'of', 'York', '(later', 'James', 'II', '&', 'VII.)', 'New', 'York', 'City', 'gained', 'prominence', 'in', 'the', '18th', 'century', 'as', 'a', 'major', 'trading', 'port', 'in', 'the', 'Thirteen', 'Colonies.'], [''], ['New', 'York', 'played', 'a', 'pivotal', 'role', 'during', 'the', 'American', 'Revolution', 'and', 'subsequent', 'war.', 'The', 'Stamp', 'Act', 'Congress', 'in', '1765', 'brought', 'together', 'representatives', 'from', 'across', 'the', 'Thirteen', 'Colonies', 'to', 'form', 'a', 'unified', 'response', 'to', 'British', 'policies.', 'The', 'Sons', 'of', 'Liberty', 'were', 'active', 'in', 'New', 'York', 'City', 'to', 'challenge', 'British', 'authority.', 'After', 'a', 'major', 'loss', 'at', 'the', 'Battle', 'of', 'Long', 'Island,', 'the', 'Continental', 'Army', 'suffered', 'a', 'series', 'of', 'additional', 'defeats', 'that', 'forced', 'a', 'retreat', 'from', 'the', 'New', 'York', 'City', 'area,', 'leaving', 'the', 'strategic', 'port', 'and', 'harbor', 'to', 'the', 'British', 'army', 'and', 'navy', 'as', 'their', 'North', 'American', 'base', 'of', 'operations', 'for', 'the', 'rest', 'of', 'the', 'war.', 'The', 'Battle', 'of', 'Saratoga', 'was', 'the', 'turning', 'point', 'of', 'the', 'war', 'in', 'favor', 'of', 'the', 'Americans,', 'convincing', 'France', 'to', 'formally', 'ally', 'with', 'them.', 'New', \"York's\", 'constitution', 'was', 'adopted', 'in', '1777,', 'and', 'strongly', 'influenced', 'the', 'United', 'States', 'Constitution.', 'New', 'York', 'City', 'was', 'the', 'national', 'capital', 'at', 'various', 'times', 'between', '1785', 'and', '1790,', 'where', 'the', 'Bill', 'of', 'Rights', 'was', 'drafted.', 'Albany', 'became', 'the', 'permanent', 'state', 'capital', 'in', '1797.', 'In', '1787,', 'New', 'York', 'became', 'the', 'eleventh', 'state', 'to', 'ratify', 'the', 'United', 'States', 'Constitution.'], [''], ['New', 'York', 'hosted', 'significant', 'transportation', 'advancements', 'in', 'the', '19th', 'century,', 'including', 'the', 'first', 'steamboat', 'line', 'in', '1807,', 'the', 'Erie', 'Canal', 'in', '1825,', 'and', \"America's\", 'first', 'regularly', 'scheduled', 'rail', 'service', 'in', '1831.', 'These', 'advancements', 'led', 'to', 'the', 'expanded', 'settlement', 'of', 'western', 'New', 'York', 'and', 'trade', 'ties', 'to', 'the', 'Midwest', 'settlements', 'around', 'the', 'Great', 'Lakes.'], [''], ['Due', 'to', 'New', 'York', \"City's\", 'trade', 'ties', 'to', 'the', 'South,', 'there', 'were', 'numerous', 'southern', 'sympathizers', 'in', 'the', 'early', 'days', 'of', 'the', 'American', 'Civil', 'War', 'and', 'the', 'mayor', 'proposed', 'secession.', 'Far', 'from', 'any', 'of', 'the', 'battles,', 'New', 'York', 'ultimately', 'sent', 'the', 'most', 'men', 'and', 'money', 'to', 'support', 'the', 'Union', 'cause.', 'Thereafter,', 'the', 'state', 'helped', 'create', 'the', 'industrial', 'age', 'and', 'consequently', 'was', 'home', 'to', 'some', 'of', 'the', 'first', 'labor', 'unions.'], [''], ['During', 'the', '19th', 'century,', 'New', 'York', 'City', 'became', 'the', 'main', 'entry', 'point', 'for', 'European', 'immigrants', 'to', 'the', 'United', 'States,', 'beginning', 'with', 'a', 'wave', 'of', 'Irish', 'during', 'their', 'Great', 'Famine.', 'Millions', 'came', 'through', 'Castle', 'Clinton', 'in', 'Battery', 'Park', 'before', 'Ellis', 'Island', 'opened', 'in', '1892', 'to', 'welcome', 'millions', 'more,', 'increasingly', 'from', 'eastern', 'and', 'southern', 'Europe.', 'The', 'Statue', 'of', 'Liberty', 'opened', 'in', '1886', 'and', 'became', 'a', 'symbol', 'of', 'hope.', 'New', 'York', 'boomed', 'during', 'the', 'Roaring', 'Twenties,', 'before', 'the', 'Wall', 'Street', 'Crash', 'of', '1929,', 'and', 'skyscrapers', 'expressed', 'the', 'energy', 'of', 'the', 'city.', 'New', 'York', 'City', 'was', 'the', 'site', 'of', 'successive', 'tallest', 'buildings', 'in', 'the', 'world', 'from', '1913–74.'], [''], ['The', 'buildup', 'of', 'defense', 'industries', 'for', 'World', 'War', 'II', 'turned', 'around', 'the', \"state's\", 'economy', 'from', 'the', 'Great', 'Depression,', 'as', 'hundreds', 'of', 'thousands', 'worked', 'to', 'defeat', 'the', 'Axis', 'powers.', 'Following', 'the', 'war,', 'the', 'state', 'experienced', 'significant', 'suburbanization', 'around', 'all', 'the', 'major', 'cities,', 'and', 'most', 'central', 'cities', 'shrank.', 'The', 'Thruway', 'system', 'opened', 'in', '1956,', 'signalling', 'another', 'era', 'of', 'transportation', 'advances.'], [''], ['Following', 'a', 'period', 'of', 'near–bankruptcy', 'in', 'the', 'late', '1970s,', 'New', 'York', 'City', 'renewed', 'its', 'stature', 'as', 'a', 'cultural', 'center,', 'attracted', 'more', 'immigration,', 'and', 'hosted', 'the', 'development', 'of', 'new', 'music', 'styles.', 'The', 'city', 'developed', 'from', 'publishing', 'to', 'become', 'a', 'media', 'capital', 'over', 'the', 'second', 'half', 'of', 'the', '20th', 'century,', 'hosting', 'most', 'national', 'news', 'channels', 'and', 'broadcasts.', 'Some', 'of', 'its', 'newspapers', 'became', 'nationally', 'and', 'globallyrenowned.', 'The', \"state's\", 'manufacturing', 'base', 'eroded', 'with', 'the', 'restructuring', 'of', 'industry,', 'and', 'the', 'state', 'transitioned', 'into', 'service', 'industries.'], [''], ['The', 'September', '11', 'attacks', 'of', '2001', 'destroyed', 'the', 'World', 'Trade', 'Center,', 'killing', 'almost', '3,000', 'people;', 'they', 'were', 'the', 'largest', 'terrorist', 'attacks', 'on', 'United', 'States', 'soil.']]\n"
     ]
    },
    {
     "data": {
      "text/plain": [
       "'\\nairportPairRDD = airportsRDD.map(lambda line: (line.split(\",\")[1], line.split(\",\")[3]))\\n# printing list of all airport and country names\\nfor element in airportPairRDD.collect():\\n print(element)\\n# filter list of all United States airports\\nairportsInUSA = airportPairRDD.filter(lambda keyValue: keyValue[1] == \"\"United States\"\")\\nprint(\"------ list of USA Airports -------------\")\\nfor elements in airportsInUSA.collect():\\n print(elements)\\n '"
      ]
     },
     "execution_count": 3,
     "metadata": {},
     "output_type": "execute_result"
    }
   ],
   "source": [
    "import findspark\n",
    "findspark.init()\n",
    "\n",
    "from pyspark import SparkContext\n",
    "\n",
    "sc = SparkContext.getOrCreate()\n",
    "# Do not forget to change the path of the file\n",
    "#airportsRDD = sc.textFile(\"C:/DataFolder/airports.txt\")\n",
    "# Split columns for Airport names and country\n",
    "\n",
    "dataRDD = sc.textFile(\"C:\\\\Users\\\\SGKsk\\\\Downloads\\\\word_count.txt\")\n",
    "words=dataRDD.map(lambda x: x.split(\" \"))\n",
    "print(words.collect())\n",
    "\n",
    "\n",
    "'''\n",
    "airportPairRDD = airportsRDD.map(lambda line: (line.split(\",\")[1], line.split(\",\")[3]))\n",
    "# printing list of all airport and country names\n",
    "for element in airportPairRDD.collect():\n",
    " print(element)\n",
    "# filter list of all United States airports\n",
    "airportsInUSA = airportPairRDD.filter(lambda keyValue: keyValue[1] == \"\\\"United States\\\"\")\n",
    "print(\"------ list of USA Airports -------------\")\n",
    "for elements in airportsInUSA.collect():\n",
    " print(elements)\n",
    " '''\n"
   ]
  },
  {
   "cell_type": "code",
   "execution_count": null,
   "metadata": {},
   "outputs": [],
   "source": [
    "import findspark\n",
    "findspark.init()\n",
    "\n",
    "from pyspark import SparkContext\n",
    "\n",
    "sc = SparkContext.getOrCreate()\n",
    "# Do not forget to change the path of the file\n",
    "#airportsRDD = sc.textFile(\"C:/DataFolder/airports.txt\")\n",
    "# Split columns for Airport names and country\n",
    "\n",
    "dataRDD = sc.textFile(\"C:\\\\Users\\\\SGKsk\\\\Downloads\\\\word_count.txt\")\n",
    "weight=dataRDD.map(lambda )\n",
    "words=dataRDD.map(lambda x: x.split(\" \"))\n",
    "print(words.collect())"
   ]
  },
  {
   "cell_type": "code",
   "execution_count": 5,
   "metadata": {},
   "outputs": [
    {
     "ename": "AttributeError",
     "evalue": "'SparkSession' object has no attribute 'show'",
     "output_type": "error",
     "traceback": [
      "\u001b[1;31m---------------------------------------------------------------------------\u001b[0m",
      "\u001b[1;31mAttributeError\u001b[0m                            Traceback (most recent call last)",
      "Cell \u001b[1;32mIn[5], line 7\u001b[0m\n\u001b[0;32m      4\u001b[0m spark1 \u001b[38;5;241m=\u001b[39m spark\u001b[38;5;241m.\u001b[39mnewSession()\n\u001b[0;32m      5\u001b[0m spark2 \u001b[38;5;241m=\u001b[39m spark\u001b[38;5;241m.\u001b[39mnewSession()\n\u001b[1;32m----> 7\u001b[0m \u001b[43mspark\u001b[49m\u001b[38;5;241;43m.\u001b[39;49m\u001b[43mshow\u001b[49m()\n",
      "\u001b[1;31mAttributeError\u001b[0m: 'SparkSession' object has no attribute 'show'"
     ]
    }
   ],
   "source": [
    "import pyspark\n",
    "from pyspark.sql import SparkSession\n",
    "spark = SparkSession.builder.master('local[1]').appName('demo.com').getOrCreate()\n",
    "spark1 = spark.newSession()\n",
    "spark2 = spark.newSession()\n",
    "\n"
   ]
  },
  {
   "cell_type": "code",
   "execution_count": null,
   "metadata": {},
   "outputs": [],
   "source": []
  },
  {
   "cell_type": "code",
   "execution_count": null,
   "metadata": {},
   "outputs": [],
   "source": [
    "#6/10\n",
    "#Example 4 - Create DataFrame from MySQL Database"
   ]
  },
  {
   "cell_type": "code",
   "execution_count": 1,
   "metadata": {},
   "outputs": [
    {
     "name": "stdout",
     "output_type": "stream",
     "text": [
      "+-----------+----------+------------+-----------+-------+--------------------+--------------+\n",
      "|orderNumber| orderDate|requiredDate|shippedDate| status|            comments|customerNumber|\n",
      "+-----------+----------+------------+-----------+-------+--------------------+--------------+\n",
      "|      10100|2003-01-06|  2003-01-13| 2003-01-10|Shipped|                NULL|           363|\n",
      "|      10101|2003-01-09|  2003-01-18| 2003-01-11|Shipped|Check on availabi...|           128|\n",
      "|      10102|2003-01-10|  2003-01-18| 2003-01-14|Shipped|                NULL|           181|\n",
      "|      10103|2003-01-29|  2003-02-07| 2003-02-02|Shipped|                NULL|           121|\n",
      "|      10104|2003-01-31|  2003-02-09| 2003-02-01|Shipped|                NULL|           141|\n",
      "|      10105|2003-02-11|  2003-02-21| 2003-02-12|Shipped|                NULL|           145|\n",
      "|      10106|2003-02-17|  2003-02-24| 2003-02-21|Shipped|                NULL|           278|\n",
      "|      10107|2003-02-24|  2003-03-03| 2003-02-26|Shipped|Difficult to nego...|           131|\n",
      "|      10108|2003-03-03|  2003-03-12| 2003-03-08|Shipped|                NULL|           385|\n",
      "|      10109|2003-03-10|  2003-03-19| 2003-03-11|Shipped|Customer requeste...|           486|\n",
      "|      10110|2003-03-18|  2003-03-24| 2003-03-20|Shipped|                NULL|           187|\n",
      "|      10111|2003-03-25|  2003-03-31| 2003-03-30|Shipped|                NULL|           129|\n",
      "|      10112|2003-03-24|  2003-04-03| 2003-03-29|Shipped|Customer requeste...|           144|\n",
      "|      10113|2003-03-26|  2003-04-02| 2003-03-27|Shipped|                NULL|           124|\n",
      "|      10114|2003-04-01|  2003-04-07| 2003-04-02|Shipped|                NULL|           172|\n",
      "|      10115|2003-04-04|  2003-04-12| 2003-04-07|Shipped|                NULL|           424|\n",
      "|      10116|2003-04-11|  2003-04-19| 2003-04-13|Shipped|                NULL|           381|\n",
      "|      10117|2003-04-16|  2003-04-24| 2003-04-17|Shipped|                NULL|           148|\n",
      "|      10118|2003-04-21|  2003-04-29| 2003-04-26|Shipped|Customer has work...|           216|\n",
      "|      10119|2003-04-28|  2003-05-05| 2003-05-02|Shipped|                NULL|           382|\n",
      "+-----------+----------+------------+-----------+-------+--------------------+--------------+\n",
      "only showing top 20 rows\n",
      "\n"
     ]
    }
   ],
   "source": [
    "#Creating SparkSesson:\n",
    "from pyspark.sql import SparkSession\n",
    "spark = SparkSession.builder.master(\"local[*]\").appName(\"Test SQL app\").getOrCreate()\n",
    "\n",
    "df=spark.read.format(\"jdbc\").options(driver=\"com.mysql.cj.jdbc.Driver\",\\\n",
    " user=\"root\",\\\n",
    " password=\"password\",\\\n",
    " url=\"jdbc:mysql://localhost:3306/classicmodels\",\\\n",
    " dbtable=\"classicmodels.orders\").load()\n",
    "df.show()\n"
   ]
  },
  {
   "cell_type": "code",
   "execution_count": null,
   "metadata": {},
   "outputs": [],
   "source": []
  }
 ],
 "metadata": {
  "kernelspec": {
   "display_name": "Python 3",
   "language": "python",
   "name": "python3"
  },
  "language_info": {
   "codemirror_mode": {
    "name": "ipython",
    "version": 3
   },
   "file_extension": ".py",
   "mimetype": "text/x-python",
   "name": "python",
   "nbconvert_exporter": "python",
   "pygments_lexer": "ipython3",
   "version": "3.11.9"
  }
 },
 "nbformat": 4,
 "nbformat_minor": 2
}
