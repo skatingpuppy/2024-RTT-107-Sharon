{
 "cells": [
  {
   "cell_type": "markdown",
   "metadata": {},
   "source": [
    "Class Notes: List Comprehension"
   ]
  },
  {
   "cell_type": "code",
   "execution_count": 1,
   "metadata": {},
   "outputs": [
    {
     "name": "stdout",
     "output_type": "stream",
     "text": [
      "['Mariya', 'Relax Batman', 'Spongebob']\n"
     ]
    }
   ],
   "source": [
    "names = [\"mariya\", 'BATMAN', 'spongebob']\n",
    "new_names = []\n",
    "\n",
    "for n in names:\n",
    "    if n.islower():\n",
    "        n = n.capitalize()\n",
    "\n",
    "    else:\n",
    "        n = \"Relax \" + n.capitalize()\n",
    "\n",
    "    new_names.append(n)\n",
    "\n",
    "names = new_names\n",
    "print(names) "
   ]
  },
  {
   "cell_type": "code",
   "execution_count": 3,
   "metadata": {},
   "outputs": [
    {
     "data": {
      "text/plain": [
       "['Mariya', 'Relax Batman', 'Spongebob']"
      ]
     },
     "execution_count": 3,
     "metadata": {},
     "output_type": "execute_result"
    }
   ],
   "source": [
    "#list comprehension method\n",
    "names = [\"mariya\", 'BATMAN', 'spongebob']\n",
    "\n",
    "[\n",
    "n.capitalize() if n.islower()\n",
    "else \"Relax \" + n.capitalize()\n",
    "for n in names\n",
    "]"
   ]
  },
  {
   "cell_type": "code",
   "execution_count": 4,
   "metadata": {},
   "outputs": [
    {
     "name": "stdout",
     "output_type": "stream",
     "text": [
      "hiddenmessage\n"
     ]
    }
   ],
   "source": [
    "my_string = \"hi442nm233ag2\"\n",
    "\n",
    "new_string = \"\".join(\n",
    "    [\"d\" if i==\"4\"\n",
    "     else \"e\" if i==\"2\"\n",
    "     else \"s\" if i==\"3\"\n",
    "     else i\n",
    "     for i in my_string    ]\n",
    ")\n",
    "\n",
    "print(new_string)"
   ]
  },
  {
   "cell_type": "code",
   "execution_count": 8,
   "metadata": {},
   "outputs": [
    {
     "name": "stdout",
     "output_type": "stream",
     "text": [
      "['APPLES', 'BANANAS', 'STRAWBERRIES']\n"
     ]
    }
   ],
   "source": [
    "fruits = ['apples', 'bananas', 'strawberries']\n",
    "# for fruit in fruits:\n",
    "#     print(fruit)\n",
    "\n",
    "new_fruits = []\n",
    "\n",
    "for fruit in fruits:\n",
    "    fruit = fruit.upper()\n",
    "    new_fruits.append(fruit)\n",
    "\n",
    "print(new_fruits)"
   ]
  },
  {
   "cell_type": "code",
   "execution_count": 13,
   "metadata": {},
   "outputs": [
    {
     "name": "stdout",
     "output_type": "stream",
     "text": [
      "['APPLES', 'BANANAS', 'STRAWBERRIES']\n"
     ]
    }
   ],
   "source": [
    "#list comprehension method\n",
    "fruits = ['apples', 'bananas', 'strawberries']\n",
    "fruits = [fruit.upper() for fruit in fruits]\n",
    "print(fruits)"
   ]
  },
  {
   "cell_type": "code",
   "execution_count": 16,
   "metadata": {},
   "outputs": [
    {
     "name": "stdout",
     "output_type": "stream",
     "text": [
      "[0, 1, 0, 0, 1, 0, 0, 1]\n"
     ]
    }
   ],
   "source": [
    "bits = [False, True, False, False, True, False, False, True]\n",
    "new_bits = []\n",
    "\n",
    "for b in bits:\n",
    "    if b == True:\n",
    "        new_bits.append(1)\n",
    "    else:\n",
    "        new_bits.append(0)\n",
    "\n",
    "print(new_bits)"
   ]
  },
  {
   "cell_type": "code",
   "execution_count": 33,
   "metadata": {},
   "outputs": [
    {
     "ename": "SyntaxError",
     "evalue": "invalid syntax (119987138.py, line 18)",
     "output_type": "error",
     "traceback": [
      "\u001b[1;36m  Cell \u001b[1;32mIn[33], line 18\u001b[1;36m\u001b[0m\n\u001b[1;33m    else i if i\u001b[0m\n\u001b[1;37m    ^\u001b[0m\n\u001b[1;31mSyntaxError\u001b[0m\u001b[1;31m:\u001b[0m invalid syntax\n"
     ]
    }
   ],
   "source": [
    "my_string = \"HelloMyNameIsMariya\"\n",
    "\n",
    "my_string = [i for i in my_string]\n",
    "print(my_string)\n",
    "\n",
    "my_string = \"\".join([i for i in my_string])\n",
    "print(my_string)\n",
    "\n",
    "\n",
    "my_string = \"\".join(\n",
    "    [ i if i.islower() else \" \" + i for i in my_string ]\n",
    "    )\n",
    "print(my_string)\n",
    "\n",
    "\n",
    "my_string = \"\".join(\n",
    "    [ i if i.islower() \n",
    "     else \" \" + i in [\"N\", \"I\"] \n",
    "     else i\n",
    "     for i in my_string]\n",
    "    )\n",
    "print(my_string)"
   ]
  },
  {
   "cell_type": "code",
   "execution_count": 42,
   "metadata": {},
   "outputs": [
    {
     "name": "stdout",
     "output_type": "stream",
     "text": [
      "['A', 'D', 'B', 'D', 'A']\n",
      "['A', 'C', 'B', 'C', 'A']\n"
     ]
    }
   ],
   "source": [
    "#Example 3 from PPT\n",
    "\n",
    "grades = [95, 55, 83, 75, 91]\n",
    "grades_result = [(\"A\" if g>=90 \n",
    "                  else \"B\" if g>75 \n",
    "                  else \"C\") \n",
    "                  for g in grades\n",
    "                  ]\n",
    "print(grades_result)\n",
    "\n",
    "#what's the difference?\n",
    "grades = [95, 55, 83, 75, 91]\n",
    "grades_result = [(\"A\" if g>=90 \n",
    "                  else (\"B\" if g>75 \n",
    "                        else \"C\"))\n",
    "                  for g in grades\n",
    "                  ]\n",
    "print(grades_result)"
   ]
  },
  {
   "cell_type": "code",
   "execution_count": 38,
   "metadata": {},
   "outputs": [
    {
     "name": "stdout",
     "output_type": "stream",
     "text": [
      "[(0, 0), (0, 1), (1, 0), (1, 1), (2, 0), (2, 1)]\n"
     ]
    }
   ],
   "source": [
    "#Example 4 from PPT\n",
    "\n",
    "pairs = [(i,j) for i in range(3) for j in range(2)] #i = 0, 1, 2 and j = 0, 1\n",
    "print(pairs)"
   ]
  },
  {
   "cell_type": "code",
   "execution_count": 51,
   "metadata": {},
   "outputs": [
    {
     "name": "stdout",
     "output_type": "stream",
     "text": [
      "[1, 2, 'Fizz', 4, 'Buzz', 'Fizz', 7, 8, 'Fizz', 'Buzz', 11, 'Fizz', 13, 14, 'FizzBuzz', 16, 17, 'Fizz', 19, 'Buzz', 'Fizz', 22, 23, 'Fizz', 'Buzz', 26, 'Fizz', 28, 29, 'FizzBuzz', 31, 32, 'Fizz', 34, 'Buzz', 'Fizz', 37, 38, 'Fizz', 'Buzz', 41, 'Fizz', 43, 44, 'FizzBuzz', 46, 47, 'Fizz', 49, 'Buzz', 'Fizz', 52, 53, 'Fizz', 'Buzz', 56, 'Fizz', 58, 59, 'FizzBuzz', 61, 62, 'Fizz', 64, 'Buzz', 'Fizz', 67, 68, 'Fizz', 'Buzz', 71, 'Fizz', 73, 74, 'FizzBuzz', 76, 77, 'Fizz', 79, 'Buzz', 'Fizz', 82, 83, 'Fizz', 'Buzz', 86, 'Fizz', 88, 89, 'FizzBuzz', 91, 92, 'Fizz', 94, 'Buzz', 'Fizz', 97, 98, 'Fizz', 'Buzz']\n"
     ]
    }
   ],
   "source": [
    "#comprehension exercises from PPT: fizzbuzz problem\n",
    "\n",
    "#1\n",
    "fizzbuzz = [(\"FizzBuzz\" if i%3==0 and i%5==0   #do this first bc buzz and fizz are conditions included within the fizzbuzz condition\n",
    "             else \"Buzz\" if i%5==0\n",
    "             else \"Fizz\" if i%3==0\n",
    "             else i)\n",
    "            for i in range(1,101)\n",
    "            ]\n",
    "\n",
    "print(fizzbuzz)"
   ]
  },
  {
   "cell_type": "code",
   "execution_count": 56,
   "metadata": {},
   "outputs": [
    {
     "name": "stdout",
     "output_type": "stream",
     "text": [
      "[('Scala', 2.13), ('Python', 3.8), ('Java', 13), ('JavaScript', 2019)]\n",
      "[('Python', 3.8), ('Java', 13), ('JavaScript', 2019), ('Scala', 2.13)]\n"
     ]
    }
   ],
   "source": [
    "#lambda function\n",
    "\n",
    "prog_lang = [('Python', 3.8),\n",
    "             ('Java', 13),\n",
    "             ('JavaScript', 2019),\n",
    "             ('Scala', 2.13)]\n",
    "\n",
    "list_sorted = sorted(prog_lang, key=lambda x : x[1])\n",
    "print(list_sorted)\n",
    "print(prog_lang)"
   ]
  },
  {
   "cell_type": "code",
   "execution_count": 62,
   "metadata": {},
   "outputs": [
    {
     "name": "stdout",
     "output_type": "stream",
     "text": [
      "[('Java', 13), ('Scala', 2.13), ('Python', 3.8), ('JavaScript', 2019)]\n",
      "[('JavaScript', 2019), ('Python', 3.8), ('Scala', 2.13), ('Java', 13)]\n"
     ]
    }
   ],
   "source": [
    "prog_lang = [('Python', 3.8),\n",
    "             ('Java', 13),\n",
    "             ('JavaScript', 2019),\n",
    "             ('Scala', 2.13)]\n",
    "\n",
    "list_sorted = sorted(prog_lang, key=lambda x : len(x[0])) #sort by length of name\n",
    "print(list_sorted)\n",
    "\n",
    "list_sorted = sorted(prog_lang, key=lambda x : len(x[0]), reverse=True) #in reverse\n",
    "print(list_sorted)"
   ]
  },
  {
   "cell_type": "code",
   "execution_count": 64,
   "metadata": {},
   "outputs": [
    {
     "name": "stdout",
     "output_type": "stream",
     "text": [
      "[('Java', 13), ('JavaScript', 2019), ('Scala', 2.13)]\n"
     ]
    }
   ],
   "source": [
    "list_filter = list(filter(lambda x : 'a' in x[0], prog_lang))\n",
    "print(list_filter)"
   ]
  },
  {
   "cell_type": "code",
   "execution_count": 82,
   "metadata": {},
   "outputs": [
    {
     "name": "stdout",
     "output_type": "stream",
     "text": [
      "[('Java', 13), ('JavaScript', 2019), ('Scala', 2.13)]\n",
      "['Java', 'JavaScript', 'Scala']\n"
     ]
    },
    {
     "data": {
      "text/plain": [
       "[]"
      ]
     },
     "execution_count": 82,
     "metadata": {},
     "output_type": "execute_result"
    }
   ],
   "source": [
    "lstcomp_filtered = [lang for lang in prog_lang if 'a' in lang[0]]\n",
    "print(lstcomp_filtered)\n",
    "\n",
    "lstcomp_filtered = [prog_lang for prog_lang, x in prog_lang if 'a' in prog_lang]\n",
    "print(lstcomp_filtered)\n",
    "\n",
    "lstcomp_filtered = [value for value in prog_lang if 'a' in value]\n",
    "lstcomp_filtered"
   ]
  },
  {
   "cell_type": "markdown",
   "metadata": {},
   "source": [
    "Video Notes: Python Lambda Functions"
   ]
  },
  {
   "cell_type": "code",
   "execution_count": 85,
   "metadata": {},
   "outputs": [
    {
     "name": "stdout",
     "output_type": "stream",
     "text": [
      "12\n"
     ]
    }
   ],
   "source": [
    "add5 = lambda x: x+5\n",
    "print(add5(7))"
   ]
  },
  {
   "cell_type": "code",
   "execution_count": 87,
   "metadata": {},
   "outputs": [
    {
     "name": "stdout",
     "output_type": "stream",
     "text": [
      "25\n"
     ]
    }
   ],
   "source": [
    "mysquare = lambda x: x*x #you're not defining a variable, but rather a function\n",
    "print(mysquare(5))"
   ]
  },
  {
   "cell_type": "code",
   "execution_count": null,
   "metadata": {},
   "outputs": [],
   "source": [
    "mysum = lambda * args  #* is to unpack"
   ]
  }
 ],
 "metadata": {
  "kernelspec": {
   "display_name": "Python 3",
   "language": "python",
   "name": "python3"
  },
  "language_info": {
   "codemirror_mode": {
    "name": "ipython",
    "version": 3
   },
   "file_extension": ".py",
   "mimetype": "text/x-python",
   "name": "python",
   "nbconvert_exporter": "python",
   "pygments_lexer": "ipython3",
   "version": "3.11.9"
  }
 },
 "nbformat": 4,
 "nbformat_minor": 2
}
