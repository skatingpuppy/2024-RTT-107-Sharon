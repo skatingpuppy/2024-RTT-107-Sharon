{
 "cells": [
  {
   "cell_type": "markdown",
   "metadata": {},
   "source": [
    "Class Notes Monday 4/29: Iterators, Generators"
   ]
  },
  {
   "cell_type": "code",
   "execution_count": 4,
   "metadata": {},
   "outputs": [
    {
     "name": "stdout",
     "output_type": "stream",
     "text": [
      "['e', 'o', 'o']\n",
      "['o', 'e']\n"
     ]
    }
   ],
   "source": [
    "text = 'hello world'\n",
    "unique_vowels = [char for char in text if char in 'aeiou']\n",
    "print(unique_vowels)\n",
    "\n",
    "\n",
    "text = 'hello woooorld'\n",
    "unique_vowels = list({char for char in text if char in 'aeiou'})\n",
    "print(unique_vowels)"
   ]
  },
  {
   "cell_type": "code",
   "execution_count": 11,
   "metadata": {},
   "outputs": [
    {
     "data": {
      "text/plain": [
       "15"
      ]
     },
     "execution_count": 11,
     "metadata": {},
     "output_type": "execute_result"
    }
   ],
   "source": [
    "(lambda x: x+5)(10)\n",
    "\n",
    "#same thing as\n",
    "y = lambda x: x+5\n",
    "y(10)"
   ]
  },
  {
   "cell_type": "code",
   "execution_count": 6,
   "metadata": {},
   "outputs": [
    {
     "name": "stdout",
     "output_type": "stream",
     "text": [
      "2\n",
      "4\n",
      "8\n",
      "16\n",
      "32\n",
      "64\n",
      "128\n",
      "256\n",
      "512\n",
      "1024\n",
      "2048\n",
      "4096\n",
      "8192\n",
      "16384\n",
      "32768\n",
      "65536\n",
      "131072\n",
      "262144\n",
      "524288\n",
      "1048576\n"
     ]
    }
   ],
   "source": [
    "#example in ppt \n",
    "\n",
    "def powers_of_two():\n",
    "    n = 1\n",
    "    while True:\n",
    "        n *= 2\n",
    "        yield n\n",
    "powers = powers_of_two()\n",
    "\n",
    "for _ in range(20):\n",
    "    print(next(powers))"
   ]
  },
  {
   "cell_type": "code",
   "execution_count": 1,
   "metadata": {},
   "outputs": [
    {
     "name": "stdout",
     "output_type": "stream",
     "text": [
      "2 3 5 7 11 13 17 19 23 29 "
     ]
    }
   ],
   "source": [
    "#generator question 1\n",
    "\n",
    "# def primes_gen():\n",
    "#     n = 2\n",
    "#     for i in range(2, n//2+1):\n",
    "#         if num % i == 0:\n",
    "\n",
    "\n",
    "def primes_gen():\n",
    "    num = 2\n",
    "    primes = []\n",
    "    while True:\n",
    "        is_prime = True\n",
    "        for prime in primes:\n",
    "            if num % prime == 0:\n",
    "                is_prime = False\n",
    "                break\n",
    "        if is_prime:\n",
    "            primes.append(num)\n",
    "            yield num\n",
    "        num += 1\n",
    "\n",
    "gen = primes_gen()\n",
    "for _ in range(10): print(next(gen), \n",
    "        end = ' ')"
   ]
  },
  {
   "cell_type": "code",
   "execution_count": 2,
   "metadata": {},
   "outputs": [
    {
     "name": "stdout",
     "output_type": "stream",
     "text": [
      "helo"
     ]
    }
   ],
   "source": [
    "#question 2\n",
    "\n",
    "def unique_letters(input_str):\n",
    "    unique_set = set()\n",
    "    for letter in input_str:\n",
    "        if letter not in unique_set:\n",
    "            unique_set.add(letter)\n",
    "            yield letter\n",
    "\n",
    "for letter in unique_letters('hello'):\n",
    "    print(letter, end='')"
   ]
  },
  {
   "cell_type": "code",
   "execution_count": 3,
   "metadata": {},
   "outputs": [
    {
     "name": "stdout",
     "output_type": "stream",
     "text": [
      "l h o e "
     ]
    }
   ],
   "source": [
    "#another way:\n",
    "\n",
    "def unique_string(string):\n",
    "    seen = set(string)\n",
    "    for letter in seen:\n",
    "        yield letter\n",
    "\n",
    "for letter in unique_string('hello'):\n",
    "    print(letter, end=' ')"
   ]
  },
  {
   "cell_type": "code",
   "execution_count": null,
   "metadata": {},
   "outputs": [],
   "source": []
  }
 ],
 "metadata": {
  "kernelspec": {
   "display_name": "Python 3",
   "language": "python",
   "name": "python3"
  },
  "language_info": {
   "codemirror_mode": {
    "name": "ipython",
    "version": 3
   },
   "file_extension": ".py",
   "mimetype": "text/x-python",
   "name": "python",
   "nbconvert_exporter": "python",
   "pygments_lexer": "ipython3",
   "version": "3.11.9"
  }
 },
 "nbformat": 4,
 "nbformat_minor": 2
}
