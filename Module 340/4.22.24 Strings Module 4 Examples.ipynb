{
 "cells": [
  {
   "cell_type": "code",
   "execution_count": 1,
   "metadata": {},
   "outputs": [
    {
     "name": "stdout",
     "output_type": "stream",
     "text": [
      "H@e\n",
      "l\n"
     ]
    }
   ],
   "source": [
    "s = \"Hello World!\"\n",
    "\n",
    "print(s[0], end='@')\n",
    "print(s[1])\n",
    "print(s[2])\n"
   ]
  },
  {
   "cell_type": "code",
   "execution_count": 6,
   "metadata": {},
   "outputs": [
    {
     "name": "stdout",
     "output_type": "stream",
     "text": [
      "llo\n",
      "ll\n",
      "lo World!\n"
     ]
    }
   ],
   "source": [
    "print(s[2:5]) #prints UNTIL BEFORE 5, does NOT print 5. for end of range, only prints until BEFORE it.\n",
    "print(s[2:4])\n",
    "print(s[3:])"
   ]
  },
  {
   "cell_type": "code",
   "execution_count": 33,
   "metadata": {},
   "outputs": [
    {
     "name": "stdout",
     "output_type": "stream",
     "text": [
      "Hello World!Hello World!\n",
      "Hello World! Hello World! \n",
      "Hello World!Hello World!\n",
      "Hello World! Hello World!\n",
      "Hello World!Hello World!?"
     ]
    }
   ],
   "source": [
    "print(s*2)\n",
    "print((s+\" \")*2)\n",
    "\n",
    "print(s*2, sep = \" \") #separator argument\n",
    "#^this doesn't work bc it gives one individual object\n",
    "\n",
    "print(s, s, sep = \" \") #separator argument\n",
    "#^this gives 2 separate objects, so the separator argument works\n",
    "#BUT s, s already gives the same result bc the comma spaces it out\n",
    "\n",
    "print(s*2, end = \"?\") #end argument"
   ]
  },
  {
   "cell_type": "code",
   "execution_count": 4,
   "metadata": {},
   "outputs": [
    {
     "name": "stdout",
     "output_type": "stream",
     "text": [
      "hello world!\n",
      "HELLO WORLD!\n",
      "Hesso Worsd!\n",
      "hesso worsd!\n"
     ]
    }
   ],
   "source": [
    "print(s.lower())\n",
    "print(s.upper())\n",
    "\n",
    "print(s.replace('l','s')) #case sensitive. if it had been \"helLo world\", only the lower case l would be changed to s\n",
    "\n",
    "print(s.lower().replace('l','s')) #can layer methods. goes in order."
   ]
  },
  {
   "cell_type": "code",
   "execution_count": 5,
   "metadata": {},
   "outputs": [
    {
     "ename": "SyntaxError",
     "evalue": "invalid syntax (1894306863.py, line 1)",
     "output_type": "error",
     "traceback": [
      "\u001b[1;36m  Cell \u001b[1;32mIn[5], line 1\u001b[1;36m\u001b[0m\n\u001b[1;33m    <class 'str'>\u001b[0m\n\u001b[1;37m    ^\u001b[0m\n\u001b[1;31mSyntaxError\u001b[0m\u001b[1;31m:\u001b[0m invalid syntax\n"
     ]
    }
   ],
   "source": [
    "<class 'str'>\n",
    "['He', 'Lo Wor', 'ld!']\n"
   ]
  },
  {
   "cell_type": "code",
   "execution_count": 11,
   "metadata": {},
   "outputs": [
    {
     "name": "stdout",
     "output_type": "stream",
     "text": [
      "['He', '', '', ' W', 'r', 'd!']\n"
     ]
    }
   ],
   "source": [
    "# #split only takes a single sep character OR any whitespaces\n",
    "# print(s.split['l'])\n",
    "# print(s.split([' ']))\n",
    "\n",
    "import re #this is the regex module\n",
    "s = \"Hello World!\"\n",
    "print(re.split('[lo]', s))"
   ]
  },
  {
   "cell_type": "code",
   "execution_count": 17,
   "metadata": {},
   "outputs": [
    {
     "name": "stdout",
     "output_type": "stream",
     "text": [
      "False\n",
      "False\n",
      "<built-in method isalpha of str object at 0x00000230CD0172B0>\n",
      "<built-in method isalnum of str object at 0x00000230CD0172B0>\n"
     ]
    }
   ],
   "source": [
    "Data = \"hell2o\"\n",
    "print(Data.isdigit()) #isdigit: only \n",
    "print(Data.isnumeric()) #isnumeric: only numbers\n",
    "print(Data.isalpha) #isalpha: only letters\n",
    "print(Data.isalnum) \n",
    "\n",
    "\n",
    "#???????"
   ]
  },
  {
   "cell_type": "code",
   "execution_count": 20,
   "metadata": {},
   "outputs": [
    {
     "name": "stdout",
     "output_type": "stream",
     "text": [
      "My name is John and I am 30 years old.\n",
      "My name is John and I am 30 years old.\n",
      "My name is John and I am 30 years old.\n"
     ]
    }
   ],
   "source": [
    "name = \"John\"\n",
    "age = 30\n",
    "age_alphanum = \"30\"\n",
    "#print using string concatenation\n",
    "print(\"My name is \" + name + \" and I am \" + str(age) + \" years old.\")\n",
    "#print using format() method\n",
    "print(\"My name is {} and I am {} years old.\".format(name,age))\n",
    "#print using f-string syntax\n",
    "print(f\"My name is {name} and I am {age} years old.\")"
   ]
  },
  {
   "cell_type": "code",
   "execution_count": 23,
   "metadata": {},
   "outputs": [
    {
     "name": "stdout",
     "output_type": "stream",
     "text": [
      "Alice is 60 years old (double the age).\n",
      "Alice's height is 5.89 feet (rounded to 2 decimal places).\n"
     ]
    }
   ],
   "source": [
    "name = 'Alice'\n",
    "age = 30\n",
    "height = 5.889\n",
    "\n",
    "double_age = f\"{name} is {age * 2} years old (double the age).\"\n",
    "print(double_age)\n",
    "\n",
    "formatted_height = f\"{name}'s height is {height:.2f} feet (rounded to 2 decimal places).\" #this actually rounds; doesn't chop off the end of the decimal\n",
    "print(formatted_height)"
   ]
  },
  {
   "cell_type": "code",
   "execution_count": 29,
   "metadata": {},
   "outputs": [
    {
     "name": "stdout",
     "output_type": "stream",
     "text": [
      "String Concatenation Using format() = Hello World\n",
      "String Concatenation Using format() = Hello World\n"
     ]
    }
   ],
   "source": [
    "s1 = 'Hello'\n",
    "s2 = 'World'\n",
    "s3 = \"{} {}\".format(s1, s2)\n",
    "print('String Concatenation Using format() =', s3)\n",
    "\n",
    "\n",
    "#or: \n",
    "\n",
    "s4 = \"{n1} {in2}\".format(in2=s2, n1=s1)\n",
    "print('String Concatenation Using format() =', s4)"
   ]
  },
  {
   "cell_type": "code",
   "execution_count": 53,
   "metadata": {},
   "outputs": [
    {
     "name": "stdout",
     "output_type": "stream",
     "text": [
      "False\n",
      "True\n",
      "True\n",
      "False\n",
      "True\n",
      "False\n"
     ]
    }
   ],
   "source": [
    "string1 = \"Hello\"\n",
    "string2 = \"World\"\n",
    "string3 = \"Hello\"\n",
    "\n",
    "strings_equal = string1 == string2\n",
    "print(strings_equal)   #prints False\n",
    "\n",
    "strings_equal_1 = string1 == string3\n",
    "print(strings_equal_1) #prints True\n",
    "\n",
    "strings_not_equal = string1 != string2\n",
    "print(strings_not_equal) #prints True\n",
    "\n",
    "strings_not_equal_1 = string1 != string3\n",
    "print(strings_not_equal_1) #prints False\n",
    "\n",
    "string1_is_first = string1 < string2 #compares strings. \n",
    "'''\n",
    "\"alphabetical order. H is 8th in the alphabet, W is 23rd in alphabet. Lower case comes AFTER upper case. Numbers come BEFORE any letters. does NOT have to do with len()\n",
    "'''\n",
    "print(string1_is_first) #prints True\n",
    "\n",
    "string1_is_second = string1 > string2\n",
    "print(string1_is_second) #prints False"
   ]
  },
  {
   "cell_type": "code",
   "execution_count": 3,
   "metadata": {},
   "outputs": [
    {
     "name": "stdout",
     "output_type": "stream",
     "text": [
      "True\n",
      "False\n",
      "True\n"
     ]
    }
   ],
   "source": [
    "print('variable'.isidentifier())\n",
    "variable = \"my string\"\n",
    "\n",
    "print('123advariablename'.isidentifier()) #basically checks if it is a valid string. can't start with number?\n",
    "print('adjfkjwrfwf'.isidentifier())"
   ]
  },
  {
   "cell_type": "code",
   "execution_count": null,
   "metadata": {},
   "outputs": [],
   "source": []
  }
 ],
 "metadata": {
  "kernelspec": {
   "display_name": "Python 3",
   "language": "python",
   "name": "python3"
  },
  "language_info": {
   "codemirror_mode": {
    "name": "ipython",
    "version": 3
   },
   "file_extension": ".py",
   "mimetype": "text/x-python",
   "name": "python",
   "nbconvert_exporter": "python",
   "pygments_lexer": "ipython3",
   "version": "3.11.9"
  }
 },
 "nbformat": 4,
 "nbformat_minor": 2
}
