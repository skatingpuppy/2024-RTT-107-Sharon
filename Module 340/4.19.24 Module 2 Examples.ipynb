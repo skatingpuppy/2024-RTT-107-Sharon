{
 "cells": [
  {
   "cell_type": "code",
   "execution_count": 1,
   "metadata": {},
   "outputs": [
    {
     "name": "stdout",
     "output_type": "stream",
     "text": [
      "Data is 3\n"
     ]
    }
   ],
   "source": [
    "class Code:\n",
    "    def __init__(self, data):\n",
    "        self.data = data\n",
    "    def print_data(self): #simple method\n",
    "        print(\"Data is\", self.data)\n",
    "\n",
    "p = Code(3) #instance of data\n",
    "p.print_data()\n",
    "\n",
    "\n",
    "#init is the first method that is called when you initialize an object\n",
    "#self is used to access the attribute date"
   ]
  },
  {
   "cell_type": "code",
   "execution_count": 1,
   "metadata": {},
   "outputs": [],
   "source": [
    "class Person:\n",
    "    def __init__(self, name, sex, profession):\n",
    "        #data members (instance variables)\n",
    "        self.name = name #initializing the name attribute\n",
    "        self.sex = sex\n",
    "        self.profession = profession\n",
    "\n",
    "    #behavior (instance methods)\n",
    "    def show(self):\n",
    "        print(\"Name:\", self.name, \"Sex:\", self.sex, 'Profession:', self.profession)\n",
    "\n",
    "    #behavior (instance methods)\n",
    "    def work(self):\n",
    "        print(self.name, \"working as a\", self.profession)"
   ]
  },
  {
   "cell_type": "code",
   "execution_count": 2,
   "metadata": {},
   "outputs": [
    {
     "name": "stdout",
     "output_type": "stream",
     "text": [
      "Name: Sharon Kim Sex: Female Profession: student\n",
      "Sharon Kim working as a student\n"
     ]
    }
   ],
   "source": [
    "Sharon = Person(name = \"Sharon Kim\", sex = \"Female\", profession = \"student\")\n",
    "Sharon.show()\n",
    "Sharon.work()"
   ]
  },
  {
   "cell_type": "code",
   "execution_count": 8,
   "metadata": {},
   "outputs": [],
   "source": [
    "#another example\n",
    "\n",
    "class Person(object):\n",
    "    def __init__(self, name):\n",
    "        self.name = name\n",
    "        print(\"Initializing the name attribute\")\n",
    "\n",
    "class Teacher(Person):\n",
    "    def __init__(self, name, age):\n",
    "        Person.__init__(self, name) #calling init of base class\n",
    "        self.age = age\n",
    "        print(\"Age attribute of base class is initialized\")\n",
    "\n",
    "    def show(self):\n",
    "        print(\"Name of the teacher is\", self.name)\n",
    "        print(\"Age of the teacher is\", self.age)"
   ]
  },
  {
   "cell_type": "code",
   "execution_count": 9,
   "metadata": {},
   "outputs": [
    {
     "name": "stdout",
     "output_type": "stream",
     "text": [
      "Initializing the name attribute\n",
      "Age attribute of base class is initialized\n",
      "Name of the teacher is Valerie\n",
      "Age of the teacher is 40\n"
     ]
    }
   ],
   "source": [
    "t = Teacher(\"Valerie\", 40)\n",
    "t.show()"
   ]
  },
  {
   "cell_type": "code",
   "execution_count": 17,
   "metadata": {},
   "outputs": [
    {
     "name": "stdout",
     "output_type": "stream",
     "text": [
      "xxy"
     ]
    }
   ],
   "source": [
    "#another example\n",
    "\n",
    "class X:\n",
    "    def __init__(self):\n",
    "        print('x', end='')\n",
    "\n",
    "class Y(X):\n",
    "    def mi(self):\n",
    "        print('y', end='')\n",
    "\n",
    "a = X() #prints x\n",
    "b = Y() #prints x alone, prints xx with previous line\n",
    "b.mi() #prints y, prints xy with first line"
   ]
  },
  {
   "cell_type": "code",
   "execution_count": null,
   "metadata": {},
   "outputs": [],
   "source": [
    "class A:\n",
    "    def"
   ]
  }
 ],
 "metadata": {
  "kernelspec": {
   "display_name": "Python 3",
   "language": "python",
   "name": "python3"
  },
  "language_info": {
   "codemirror_mode": {
    "name": "ipython",
    "version": 3
   },
   "file_extension": ".py",
   "mimetype": "text/x-python",
   "name": "python",
   "nbconvert_exporter": "python",
   "pygments_lexer": "ipython3",
   "version": "3.11.9"
  }
 },
 "nbformat": 4,
 "nbformat_minor": 2
}
