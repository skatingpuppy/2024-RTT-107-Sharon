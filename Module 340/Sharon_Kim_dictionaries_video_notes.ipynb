{
 "cells": [
  {
   "cell_type": "markdown",
   "metadata": {},
   "source": [
    "Sharon Kim\n",
    "Module 340.6: Dictionaries\n",
    "Youtube Video Notes: ALL 11 Dictionary Methods in Python EXPLAINED"
   ]
  },
  {
   "cell_type": "code",
   "execution_count": 25,
   "metadata": {},
   "outputs": [
    {
     "name": "stdout",
     "output_type": "stream",
     "text": [
      "dict_values(['Mario', 'Luigi', 'James'])\n",
      "dict_keys([0, 1, 2])\n",
      "dict_items([(0, 'Mario'), (1, 'Luigi'), (2, 'James')])\n",
      "0 Mario\n",
      "1 Luigi\n",
      "2 James\n",
      "{0: 'Mario', 1: 'Luigi', 2: 'Bob', 3: \"James's sister\"}\n",
      "{0: 'Mario', 1: 'Luigi', 2: 'Bob', 3: \"James's sister\"}\n",
      "{0: 'Mario', 1: 'Luigi'}\n",
      "James\n",
      "{0: 'Mario'}\n"
     ]
    }
   ],
   "source": [
    "#values(), keys(), items(), pop(), popitem(), update()\n",
    "\n",
    "users: dict = {0:'Mario', 1:'Luigi', 2:'James'}\n",
    "\n",
    "print(users.values())\n",
    "\n",
    "print(users.keys())\n",
    "\n",
    "print(users.items()) #returns an iterable containing tuples of the key/value pair inside dictionary\n",
    "for k, v in users.items():\n",
    "    print(k, v)\n",
    "\n",
    "users.update({2:'Bob', 3:'James\\'s sister'}) #update lets you add another dictionary to the original dictionary.\n",
    "print(users) #if there's an overlapping key, update will override the original value with the new value\n",
    "\n",
    "#union operator works same as update()\n",
    "users: dict = {0:'Mario', 1:'Luigi', 2:'James'}\n",
    "print(users | {2:'Bob', 3:'James\\'s sister'}) #use pipeline | then write the dictionary you want to add\n",
    "\n",
    "popped = users.pop(2) #remove James\n",
    "print(users)\n",
    "print(popped)\n",
    "\n",
    "users.popitem() #remove last item. if keep running this, it'll empty the dictionary\n",
    "print(users)"
   ]
  },
  {
   "cell_type": "code",
   "execution_count": 13,
   "metadata": {},
   "outputs": [
    {
     "name": "stdout",
     "output_type": "stream",
     "text": [
      "{0: ['a', 'b'], 1: ['c', 'd']}\n",
      "{0: ['a', 'b'], 1: ['c', 'd']}\n",
      "2180726038208\n",
      "2180726090688\n",
      "{0: ['!!!', 'b'], 1: ['c', 'd']}\n",
      "{0: ['!!!', 'b'], 1: ['c', 'd']}\n"
     ]
    }
   ],
   "source": [
    "#copy()\n",
    "\n",
    "sample_dict: dict = {0:['a','b'], 1:['c','d']}\n",
    "\n",
    "#create shallow copy\n",
    "\n",
    "my_copy: dict = sample_dict.copy()\n",
    "print(sample_dict)\n",
    "print(my_copy)\n",
    "\n",
    "#id proves that they're different\n",
    "print(id(sample_dict))\n",
    "print(id(my_copy))\n",
    "\n",
    "my_copy[0][0] = '!!!' #this changes BOTH dictionaries, bc while the copy is still a unique dict, the references inside (the lists inside) are not unique, still pointing to the original memory address \n",
    "print(sample_dict) \n",
    "print(my_copy)"
   ]
  },
  {
   "cell_type": "code",
   "execution_count": 16,
   "metadata": {},
   "outputs": [
    {
     "name": "stdout",
     "output_type": "stream",
     "text": [
      "Luigi\n",
      "None\n",
      "Missing!\n",
      "Mario\n",
      "???\n",
      "{0: 'Mario', 1: 'Luigi', 2: 'James', 999: '???'}\n",
      "{}\n"
     ]
    }
   ],
   "source": [
    "#get(), setdefault(), clear()\n",
    "\n",
    "users: dict = {0:'Mario', 1:'Luigi', 2:'James'}\n",
    "\n",
    "#returns the value with the specified key\n",
    "print(users.get(1))\n",
    "print(users.get(999)) #returns None\n",
    "print(users.get(999, 'Missing!')) #can specify what to return if item isn't there\n",
    "\n",
    "#similar to get(), either returns value of specified key, or returns whatever you specify if key isn't there. \n",
    "print(users.setdefault(0, '???'))\n",
    "print(users.setdefault(999, '???')) #but this creates a new key/value pair in the dict if the item doesn't exist\n",
    "print(users)\n",
    "\n",
    "#removes everything from the dictionary\n",
    "users.clear()\n",
    "print(users)"
   ]
  },
  {
   "cell_type": "code",
   "execution_count": 19,
   "metadata": {},
   "outputs": [
    {
     "name": "stdout",
     "output_type": "stream",
     "text": [
      "{'Mario': None, 'Luigi': None, 'James': None}\n",
      "{'Mario': 'Unknown', 'Luigi': 'Unknown', 'James': 'Unknown'}\n"
     ]
    }
   ],
   "source": [
    "#fromkeys()\n",
    "\n",
    "people: list[str] = ['Mario', 'Luigi', 'James']\n",
    "users: dict = dict.fromkeys(people) #makes a dictionary where keys are the items in specified list\n",
    "print(users) #values are automatically set to None, as a placeholder\n",
    "\n",
    "users: dict = dict.fromkeys(people, 'Unknown') #can also specify placeholder for values\n",
    "print(users)"
   ]
  },
  {
   "cell_type": "code",
   "execution_count": null,
   "metadata": {},
   "outputs": [],
   "source": []
  }
 ],
 "metadata": {
  "kernelspec": {
   "display_name": "Python 3",
   "language": "python",
   "name": "python3"
  },
  "language_info": {
   "codemirror_mode": {
    "name": "ipython",
    "version": 3
   },
   "file_extension": ".py",
   "mimetype": "text/x-python",
   "name": "python",
   "nbconvert_exporter": "python",
   "pygments_lexer": "ipython3",
   "version": "3.11.9"
  }
 },
 "nbformat": 4,
 "nbformat_minor": 2
}
