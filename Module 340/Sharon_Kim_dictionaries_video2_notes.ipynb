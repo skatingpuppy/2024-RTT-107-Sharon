{
 "cells": [
  {
   "cell_type": "markdown",
   "metadata": {},
   "source": [
    "Sharon Kim\n",
    "Module 340.6: Dictionaries\n",
    "Youtube Video Notes: How to Work with Python Dictionaries"
   ]
  },
  {
   "cell_type": "code",
   "execution_count": 21,
   "metadata": {},
   "outputs": [
    {
     "name": "stdout",
     "output_type": "stream",
     "text": [
      "{'Sharon': 23, 'Diane': 20, 'Ben': 50}\n"
     ]
    }
   ],
   "source": [
    "#dictionary\n",
    "age = {'Sharon': 23, 'Diane': 20, 'Ben': 50}\n",
    "\n",
    "print(age)  #prints dictionary"
   ]
  },
  {
   "cell_type": "code",
   "execution_count": 17,
   "metadata": {},
   "outputs": [
    {
     "name": "stdout",
     "output_type": "stream",
     "text": [
      "Sharon\n",
      "23\n",
      "Diane\n",
      "20\n",
      "Ben\n",
      "50\n",
      "It is!\n",
      "It is!\n"
     ]
    }
   ],
   "source": [
    "for item in age: \n",
    "    print(item) #prints out keys only\n",
    "    print(age[item]) #prints out values only\n",
    "\n",
    "if \"Ben\" in age:    #doesn't work for values, only keys\n",
    "    print(\"It is!\")  \n",
    "\n",
    "\"Ben\" in age #prints True\n",
    "\n",
    "if 50 in age.values():\n",
    "    print(\"It is!\")  "
   ]
  },
  {
   "cell_type": "code",
   "execution_count": 38,
   "metadata": {},
   "outputs": [
    {
     "name": "stdout",
     "output_type": "stream",
     "text": [
      "dict_values([23, 20, 50])\n",
      "20\n",
      "Diane\n",
      "23\n",
      "20\n",
      "50\n",
      "dict_items([('Sharon', 23), ('Diane', 20), ('Ben', 50)])\n",
      "('Diane', 20)\n",
      "Diane\n",
      "20\n"
     ]
    }
   ],
   "source": [
    "#Values()\n",
    "print(age.values())  #type: dict_values\n",
    "\n",
    "values = age.values()\n",
    "# print(values[1]) #prints Error because it's not a list\n",
    "\n",
    "valueList = list(values)\n",
    "print(valueList[1]) #this works\n",
    "\n",
    "\n",
    "#Keys()\n",
    "keys = age.keys() #can do same for keys\n",
    "keyList = list(keys)\n",
    "print(keyList[1])\n",
    "\n",
    "for i in range(0, len(values)):  #this iterates all the values in dict\n",
    "    print(age[keyList[i]])\n",
    "\n",
    "#Items()\n",
    "items = age.items()  #again, not a list, but type dict_items\n",
    "print(items)\n",
    "\n",
    "itemList = list(items)\n",
    "print(itemList[1])   #prints key value pair of given index\n",
    "print(itemList[1][0]) #prints just key of pair\n",
    "print(itemList[1][1]) #prints just value of pair"
   ]
  },
  {
   "cell_type": "code",
   "execution_count": 34,
   "metadata": {},
   "outputs": [
    {
     "name": "stdout",
     "output_type": "stream",
     "text": [
      "dict_items([('Sharon', 23), ('Diane', 20), ('Ben', 50)])\n",
      "('Diane', 20)\n"
     ]
    }
   ],
   "source": [
    "items = age.items()  #again, not a list, but type dict_items\n",
    "print(items)\n",
    "\n",
    "itemList = list(items)\n",
    "print(itemList[1])"
   ]
  },
  {
   "cell_type": "code",
   "execution_count": null,
   "metadata": {},
   "outputs": [],
   "source": [
    "#tuple in dictionary with nested tuple\n",
    "my_Fruits = ({'name':'banana', 'taste':'sweet', 'expiration':'April 7', 'colors':(\"yellow\",\"white\")},\n",
    "             {'name':'apple', 'expiration':'April 10', 'colors':'red'})\n",
    "\n",
    "print(my_Fruits[0]['colors'][1])"
   ]
  }
 ],
 "metadata": {
  "kernelspec": {
   "display_name": "Python 3",
   "language": "python",
   "name": "python3"
  },
  "language_info": {
   "codemirror_mode": {
    "name": "ipython",
    "version": 3
   },
   "file_extension": ".py",
   "mimetype": "text/x-python",
   "name": "python",
   "nbconvert_exporter": "python",
   "pygments_lexer": "ipython3",
   "version": "3.11.9"
  }
 },
 "nbformat": 4,
 "nbformat_minor": 2
}
