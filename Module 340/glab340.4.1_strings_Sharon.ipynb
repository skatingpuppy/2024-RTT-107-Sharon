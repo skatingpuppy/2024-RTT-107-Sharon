{
 "cells": [
  {
   "cell_type": "code",
   "execution_count": 3,
   "metadata": {},
   "outputs": [
    {
     "name": "stdout",
     "output_type": "stream",
     "text": [
      "The length of the word is: 6\n",
      "The word in lowercase is: banana\n",
      "The word in uppercase is: BANANA\n",
      "The letter a appears 3 times in the word.\n",
      "The substring na appears 2 times in the word.\n",
      "The reverse of the word is: ananab\n",
      "The sliced word is an\n",
      "b3nana\n",
      "The concatenated word is bananacar\n",
      "Not a palindrome.\n",
      "Palindrome? False\n",
      "Valid Python identifier? True\n"
     ]
    }
   ],
   "source": [
    "user_word = input(\"Enter a word.\")\n",
    "print(\"The length of the word is:\", len(user_word))\n",
    "print(\"The word in lowercase is:\", user_word.lower())\n",
    "print(\"The word in uppercase is:\", user_word.upper())\n",
    "\n",
    "user_letter = input(\"Enter a letter.\")\n",
    "n_l = user_word.count(user_letter)   #number of times the letter appears in the word\n",
    "print(f\"The letter {user_letter} appears {n_l} times in the word.\")\n",
    "\n",
    "user_substring = input(\"Enter a substring.\")\n",
    "n_s = user_word.count(user_substring)\n",
    "print(f\"The substring {user_substring} appears {n_s} times in the word.\")\n",
    "\n",
    "reverse = user_word[::-1] #reverse the word\n",
    "print(\"The reverse of the word is:\", reverse)\n",
    "\n",
    "user_start_index = int(input(\"Enter a starting index.\"))\n",
    "user_end_index = int(input(\"Enter an ending index.\"))\n",
    "sliced_word = user_word[user_start_index:user_end_index]    #slice the word\n",
    "print(\"The sliced word is\", sliced_word)\n",
    "\n",
    "user_character = input(\"Enter a character to replace.\")\n",
    "user_replace = input(\"Enter a character that will replace it.\")\n",
    "word_replaced_character = user_word.replace(user_character, user_replace, 1)\n",
    "print(word_replaced_character)\n",
    "\n",
    "user_second_word = input(\"Enter a second word.\")\n",
    "concat_word = user_word + user_second_word #concatenate with another word\n",
    "print(\"The concatenated word is\", concat_word)\n",
    "\n",
    "if reverse == user_word:\n",
    "    print(\"The word is a palindrome.\")\n",
    "else:\n",
    "    print(\"Not a palindrome.\")\n",
    "\n",
    "#alternatively:\n",
    "is_palindrome = user_word == reverse\n",
    "print(\"Palindrome?\", is_palindrome)\n",
    "\n",
    "\n",
    "is_valid_identifier = user_word.isidentifier()\n",
    "print(\"Valid Python identifier?\", is_valid_identifier)"
   ]
  },
  {
   "cell_type": "code",
   "execution_count": null,
   "metadata": {},
   "outputs": [],
   "source": []
  }
 ],
 "metadata": {
  "kernelspec": {
   "display_name": "Python 3",
   "language": "python",
   "name": "python3"
  },
  "language_info": {
   "codemirror_mode": {
    "name": "ipython",
    "version": 3
   },
   "file_extension": ".py",
   "mimetype": "text/x-python",
   "name": "python",
   "nbconvert_exporter": "python",
   "pygments_lexer": "ipython3",
   "version": "3.11.9"
  }
 },
 "nbformat": 4,
 "nbformat_minor": 2
}
