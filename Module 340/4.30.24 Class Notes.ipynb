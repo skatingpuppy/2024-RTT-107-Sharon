{
 "cells": [
  {
   "cell_type": "code",
   "execution_count": 8,
   "metadata": {},
   "outputs": [
    {
     "name": "stdout",
     "output_type": "stream",
     "text": [
      "['This', 'the']\n",
      "['This', 'the']\n",
      "['This', 'the']\n"
     ]
    }
   ],
   "source": [
    "results = filter(lambda x: x.lower().startswith(\"t\"), [\"This\", \"is\", \"the\", \"best\", \"instructional team\", \"ever\"])\n",
    "print(list(results))\n",
    "\n",
    "#you need .lower if you want both This and the. the case modifiers are temporary, they don't permanently change the list\n",
    "\n",
    "#same thing:\n",
    "results = filter(lambda x: x.startswith(\"T\") or x.startswith(\"t\"), [\"This\", \"is\", \"the\", \"best\", \"instructional team\", \"ever\"])\n",
    "print(list(results))\n",
    "\n",
    "#using re:\n",
    "import re\n",
    "results = filter(lambda x: re.match(\"[Tt]\", x), [\"This\", \"is\", \"the\", \"best\", \"instructional team\", \"ever\"])\n",
    "print(list(results))"
   ]
  },
  {
   "cell_type": "markdown",
   "metadata": {},
   "source": [
    "Closure"
   ]
  },
  {
   "cell_type": "code",
   "execution_count": 9,
   "metadata": {},
   "outputs": [
    {
     "name": "stdout",
     "output_type": "stream",
     "text": [
      "Python is fun!!!\n"
     ]
    }
   ],
   "source": [
    "def outer(msg):\n",
    "    lang = \"Python\"\n",
    "    def inner():\n",
    "        print(lang, msg)\n",
    "    return inner\n",
    "my_func = outer(\"is fun!!!\")\n",
    "my_func() #output: Python is fun!"
   ]
  },
  {
   "cell_type": "code",
   "execution_count": 10,
   "metadata": {},
   "outputs": [],
   "source": [
    "#closure: a function in another function\n",
    "\n",
    "#e.g.\n",
    "def enter_number_outer():\n",
    "    numbers = []\n",
    "\n",
    "    def enter_number_inner(x):\n",
    "        numbers.append(x)\n",
    "        print(numbers)\n",
    "\n",
    "    return enter_number_inner\n",
    "\n",
    "#outer part contains number variable\n",
    "#inner function adds number to numbers list\n",
    "#inner function closes over the outer function"
   ]
  },
  {
   "cell_type": "code",
   "execution_count": null,
   "metadata": {},
   "outputs": [],
   "source": [
    "#AssertionError Exception\n",
    "# syntax:\n",
    "assert CONDITION [, ARGUMENT]"
   ]
  },
  {
   "cell_type": "code",
   "execution_count": 12,
   "metadata": {},
   "outputs": [
    {
     "name": "stdout",
     "output_type": "stream",
     "text": [
      "sorry file does not exist\n"
     ]
    }
   ],
   "source": [
    "try:\n",
    "    f = open('test_file.txt')\n",
    "    var = bad_var\n",
    "    # if f.name == 'corrupt_file.txt':\n",
    "    #     raise Exception\n",
    "except FileNotFoundError:\n",
    "    print('sorry file does not exist')"
   ]
  },
  {
   "cell_type": "code",
   "execution_count": 19,
   "metadata": {},
   "outputs": [
    {
     "name": "stdout",
     "output_type": "stream",
     "text": [
      "name 'bad_var' is not defined\n"
     ]
    }
   ],
   "source": [
    "try:\n",
    "    f = open(r\"C:\\Users\\SGKsk\\Downloads\\test_file.txt\")\n",
    "    var = bad_var   #output: name 'bad_var' is not defined\n",
    "\n",
    "except Exception as e:   #output: name 'bad_var' is not defined\n",
    "    print(e)\n",
    "\n",
    "except FileNotFoundError:\n",
    "    print('sorry file does not exist')"
   ]
  },
  {
   "cell_type": "code",
   "execution_count": 21,
   "metadata": {},
   "outputs": [
    {
     "name": "stdout",
     "output_type": "stream",
     "text": [
      "Test File Contents!\n",
      "Executing Finally...\n"
     ]
    }
   ],
   "source": [
    "try:\n",
    "    f = open(r\"C:\\Users\\SGKsk\\Downloads\\test_file.txt\")\n",
    "except FileNotFoundError as e:\n",
    "    print(e)\n",
    "except Exception as e:\n",
    "    print(e)\n",
    "else:\n",
    "    print(f.read())\n",
    "    f.close()\n",
    "finally:\n",
    "    #pass\n",
    "    print(\"Executing Finally...\")"
   ]
  },
  {
   "cell_type": "code",
   "execution_count": null,
   "metadata": {},
   "outputs": [],
   "source": []
  }
 ],
 "metadata": {
  "kernelspec": {
   "display_name": "Python 3",
   "language": "python",
   "name": "python3"
  },
  "language_info": {
   "codemirror_mode": {
    "name": "ipython",
    "version": 3
   },
   "file_extension": ".py",
   "mimetype": "text/x-python",
   "name": "python",
   "nbconvert_exporter": "python",
   "pygments_lexer": "ipython3",
   "version": "3.11.9"
  }
 },
 "nbformat": 4,
 "nbformat_minor": 2
}
