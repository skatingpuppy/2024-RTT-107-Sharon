{
 "cells": [
  {
   "cell_type": "code",
   "execution_count": null,
   "metadata": {},
   "outputs": [],
   "source": [
    "#SBA practice   "
   ]
  },
  {
   "cell_type": "code",
   "execution_count": null,
   "metadata": {},
   "outputs": [],
   "source": [
    "%pip install seaborn\n",
    "%pip install folium"
   ]
  },
  {
   "cell_type": "code",
   "execution_count": null,
   "metadata": {},
   "outputs": [],
   "source": [
    "import numpy as np\n",
    "import pandas as pd\n",
    "import matplotlib.pyplot as plt\n",
    "import seaborn as sns\n",
    "import folium\n",
    "%matplotlib inline"
   ]
  },
  {
   "cell_type": "code",
   "execution_count": null,
   "metadata": {},
   "outputs": [],
   "source": [
    "from js import fetch\n",
    "import io\n",
    "\n",
    "URL = \"https://cf-courses-data.s3.us.cloud-object-storage.appdomain.cloud/IBMDeveloperSkillsNetwork-DV0101EN-SkillsNetwork/Data%20Files/Historical_Wildfires.csv\"\n",
    "resp = await fetch(URL)\n",
    "text = io.BytesIO((await resp.arrayBuffer()).to_py())\n",
    "df = pd.read_csv(text)\n",
    "print('Data read into a pandas dataframe!')\n"
   ]
  },
  {
   "cell_type": "code",
   "execution_count": null,
   "metadata": {},
   "outputs": [],
   "source": [
    "df.head()\n",
    "\n",
    "#Column names\n",
    "df.columns\n",
    "\n",
    "#data type\n",
    "df.dtypes"
   ]
  },
  {
   "cell_type": "code",
   "execution_count": null,
   "metadata": {},
   "outputs": [],
   "source": [
    "import datetime as dt\n",
    "\n",
    "df['Year'] = pd.to_datetime(df['Date']).dt.year\n",
    "df['Month'] = pd.to_datetime(df['Date']).dt.month\n"
   ]
  },
  {
   "cell_type": "code",
   "execution_count": null,
   "metadata": {},
   "outputs": [],
   "source": [
    "#verify the columns again\n",
    "\n",
    "df.columns #year and month are now included"
   ]
  },
  {
   "cell_type": "code",
   "execution_count": null,
   "metadata": {},
   "outputs": [],
   "source": [
    "#TASK 1.1: Let's try to understand the change in average estimated fire area over time\n",
    "\n",
    "# TODO\n",
    "\n",
    "plt.figure(figsize=(12,6))\n",
    "df_new = df.groupby('Year')['Estimated_fire_area'].mean()\n",
    "df_new.plot(x=df_new.index, y=df_new.values)\n",
    "plt.xlabel('Year')\n",
    "plt.ylabel('Average Estimated Fire Area (km2)')\n",
    "plt.title('Estimated Fire Area over Time')\n",
    "plt.show()"
   ]
  },
  {
   "cell_type": "code",
   "execution_count": null,
   "metadata": {},
   "outputs": [],
   "source": [
    "#TASK 1.2: You can notice the peak in the plot between 2010 to 2013. Let's narrow down our finding, by plotting the estimated fire area for year grouped together with month.\n",
    "\n",
    "# TODO\n",
    "#plt.figure(figsize=(12,6))\n",
    "df_new2 = df.groupby(['Year', 'Month'])['Estimated_fire_area'].mean()\n",
    "df_new2.plot(x=df_new2.index, y=df_new.values)\n",
    "plt.xlabel('Year, Month')\n",
    "plt.ylabel('Fire Area')\n",
    "plt.title('Estimated Fire Area over time')\n",
    "plt.show()"
   ]
  },
  {
   "cell_type": "code",
   "execution_count": null,
   "metadata": {},
   "outputs": [],
   "source": [
    "#TASK 1.3: Let's have an insight on the distribution of mean estimated fire brightness across the regions\n",
    "#use the functionality of seaborn to develop a barplot\n",
    "\n",
    "df['Region'].unique()\n",
    "\n",
    "#TODO\n",
    "plt.figure(figsize=(10,6))\n",
    "sns.barplot(data=df, x='Region', y='Mean_estimated_fire_brightness')\n",
    "plt.xlabel('Region')\n",
    "plt.ylabel('Mean Estimated Fire Brightness (Kelvin)')\n",
    "plt.title('Distribution of Mean Estimated Fire Brightness across Regions')\n",
    "plt.show()"
   ]
  },
  {
   "cell_type": "code",
   "execution_count": null,
   "metadata": {},
   "outputs": [],
   "source": [
    "#TASK 1.4: Let's find the portion of count of pixels for presumed vegetation fires vary across regions\n",
    "#we will develop a pie chart for this\n",
    "\n",
    "plt.figure(figsize=(10,6))\n",
    "region_counts = df.groupby('Region')['Count'].sum()\n",
    "plt.pie(region_counts, labels=region_counts.index, autopct='%1.1f%%')\n",
    "plt.title('Percentage of Pixels for Presumed Vegetation Fires by Region')\n",
    "plt.axis('equal')\n",
    "plt.show()"
   ]
  },
  {
   "cell_type": "code",
   "execution_count": null,
   "metadata": {},
   "outputs": [],
   "source": [
    "#TASK 1.5: See the percentage on the pie is not looking so good as it is overlaped for Region SA, TA, VI\n",
    "#remove the autopct fromm pie function and pass the following to plt.legend() after plt.title()\n",
    "\n",
    "plt.figure(figsize=(10, 6))\n",
    "region_counts = df.groupby('Region')['Count'].sum()\n",
    "plt.pie(region_counts, labels=region_counts.index)\n",
    "plt.title('Percentage of Pixels for Presumed Vegetation Fires by Region')\n",
    "plt.legend([(i,round(k/region_counts.sum()*100,2)) for i,k in zip(region_counts.index, region_counts)])\n",
    "plt.axis('equal')\n",
    "plt.show()"
   ]
  },
  {
   "cell_type": "code",
   "execution_count": null,
   "metadata": {},
   "outputs": [],
   "source": [
    "#TASK 1.6: Let's try to develop a histogram of the mean estimated fire brightness\n",
    "#Using Matplotlib to create the histogram\n",
    "\n",
    "plt.figure(figsize=(10, 6))\n",
    "plt.hist(x=df['Mean_estimated_fire_brightness'], bins=20)\n",
    "plt.xlabel('Mean Estimated Fire Brightness (Kelvin)')\n",
    "plt.ylabel('Count')\n",
    "plt.title('Histogram of Mean Estimated Fire Brightness')\n",
    "plt.show()"
   ]
  },
  {
   "cell_type": "code",
   "execution_count": null,
   "metadata": {},
   "outputs": [],
   "source": [
    "#TASK 1.7: What if we need to understand the distribution of estimated fire brightness across regions? \n",
    "#Let's use the functionality of seaborn and pass region as hue\n",
    "\n",
    "plt.figure(figsize=(10,6))\n",
    "sns.histplot(data=df, x='Mean_estimated_fire_brightness', hue=\"Region\")\n",
    "plt.show()"
   ]
  },
  {
   "cell_type": "code",
   "execution_count": null,
   "metadata": {},
   "outputs": [],
   "source": [
    "#looks better!, now include the parameter multiple='stack' in the histplot() and see the difference. Include labels and titles as well\n",
    "\n",
    "sns.histplot(data=df, x='Mean_estimated_fire_brightness', hue='Region', multiple='stack')\n",
    "plt.show()"
   ]
  },
  {
   "cell_type": "code",
   "execution_count": null,
   "metadata": {},
   "outputs": [],
   "source": [
    "#TASK 1.8: Let's try to find if there is any correlation between mean estimated fire radiative power and mean confidence level?\n",
    "\n",
    "plt.figure(figsize=(8, 6))\n",
    "sns.scatterplot(data=df, x='Mean_confidence', y='Mean_estimated_fire_radiative_power')\n",
    "plt.xlabel('Mean Estimated Fire Radiative Power (MW)')\n",
    "plt.ylabel('Mean Confidence')\n",
    "plt.title('Mean Estimated Fire Radiative Power vs. Mean Confidence')\n",
    "plt.show()"
   ]
  },
  {
   "cell_type": "code",
   "execution_count": null,
   "metadata": {},
   "outputs": [],
   "source": [
    "#TASK 1.9: Let's mark these seven regions on the Map of Australia using Folium\n",
    "\n",
    "#we have created a dataframe for you containing the regions, their latitudes and longitudes.\n",
    "#For australia use [-25, 135] as location to create the map\n",
    "region_data = {'region':['NSW','QL','SA','TA','VI','WA','NT'], 'Lat':[-31.8759835,-22.1646782,-30.5343665,-42.035067,-36.5986096,-25.2303005,-19.491411], \n",
    "               'Lon':[147.2869493,144.5844903,135.6301212,146.6366887,144.6780052,121.0187246,132.550964]}\n",
    "reg=pd.DataFrame(region_data)\n",
    "reg\n",
    "\n",
    "# instantiate a feature group \n",
    "aus_reg = folium.map.FeatureGroup()\n",
    "\n",
    "# Create a Folium map centered on Australia\n",
    "Aus_map = folium.Map(location=[-25, 135], zoom_start=4)\n",
    "\n",
    "# loop through the region and add to feature group\n",
    "for lat, lng, lab in zip(reg.Lat, reg.Lon, reg.region):\n",
    "    aus_reg.add_child(\n",
    "        folium.features.CircleMarker(\n",
    "            [lat, lng],\n",
    "            popup=lab,\n",
    "            radius=5, # define how big you want the circle markers to be\n",
    "            color='red',\n",
    "            fill=True,\n",
    "            fill_color='blue',\n",
    "            fill_opacity=0.6\n",
    "        )\n",
    "    )\n",
    "\n",
    "# add incidents to map\n",
    "Aus_map.add_child(aus_reg)"
   ]
  }
 ],
 "metadata": {
  "kernelspec": {
   "display_name": "Python 3",
   "language": "python",
   "name": "python3"
  },
  "language_info": {
   "codemirror_mode": {
    "name": "ipython",
    "version": 3
   },
   "file_extension": ".py",
   "mimetype": "text/x-python",
   "name": "python",
   "nbconvert_exporter": "python",
   "pygments_lexer": "ipython3",
   "version": "3.11.9"
  }
 },
 "nbformat": 4,
 "nbformat_minor": 2
}
