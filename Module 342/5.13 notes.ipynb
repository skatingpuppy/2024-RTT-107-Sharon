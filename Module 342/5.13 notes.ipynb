{
 "cells": [
  {
   "cell_type": "code",
   "execution_count": 3,
   "metadata": {
    "metadata": {}
   },
   "outputs": [
    {
     "name": "stdout",
     "output_type": "stream",
     "text": [
      "How\n",
      " Python Handles Files?\n",
      "\n",
      "['If you are working in a large software application where they process a large amount\\n', 'of data, then we cannot expect that data to be stored in a variable as the variables are\\n', 'volatile in nature.\\n', '\\n', 'Hence when you are about to handle such situations, the role of files will come into\\n', 'the picture.\\n', '\\n', 'As files are non-volatile in nature, the data will be stored permanently in a secondary\\n', 'device like Hard Disk and using python we will handle these files in our applications.\\n', '\\n', 'Are you thinking about how python will handle files?\\n', '\\n', 'Let’s take an Example of how normal people will handle the files. If we want to read\\n', 'the data from a file or write the data into a file, then, first of all, we will open the file\\n', 'or will create a new file if the file does not exist and then perform the normal\\n', 'read/write operations, save the file and close it.\\n', '\\n', 'Similarly, we do the same operations in python using some in-built methods or\\n', 'functions.']\n"
     ]
    }
   ],
   "source": [
    "with open(\"my_file.txt\", mode = \"r\") as fo:\n",
    "    print(fo.read(3))\n",
    "    print(fo.readline())\n",
    "    print(fo.readlines())\n",
    "    print(fo.tell(5))\n",
    "    print(fo.seek(5))\n",
    "\n",
    "    print(fo.tell())\n",
    "    print(fo.read())"
   ]
  },
  {
   "cell_type": "code",
   "execution_count": 8,
   "metadata": {
    "metadata": {}
   },
   "outputs": [
    {
     "name": "stdout",
     "output_type": "stream",
     "text": [
      "Column names are Name, Department, Birthday Month\n",
      "\tJohn Doe works in the HR department, and was born in May.\n",
      "\tJane Smith works in the IT department, and was born in September.\n",
      "\tMichael Johnson works in the Sales department, and was born in July.\n",
      "\tEmily Brown works in the Marketing department, and was born in October.\n",
      "\tDavid Wilson works in the Finance department, and was born in December.\n",
      "\tSarah Anderson works in the HR department, and was born in January.\n",
      "\tRobert Miller works in the IT department, and was born in February.\n",
      "\tJessica Martinez works in the Sales department, and was born in March.\n",
      "\tDaniel Clark works in the Marketing department, and was born in June.\n",
      "\tLisa Taylor works in the Finance department, and was born in April.\n",
      "\tWilliam Lee works in the IT department, and was born in June.\n",
      "\tKaren White works in the HR department, and was born in July.\n",
      "\tAndrew Adams works in the Sales department, and was born in September.\n",
      "\tMichelle Hall works in the Finance department, and was born in January.\n",
      "\tChristopher Wright works in the IT department, and was born in February.\n",
      "\tAmanda Moore works in the Marketing department, and was born in April.\n",
      "\tKevin Harris works in the HR department, and was born in June.\n",
      "\tLauren Martin works in the Sales department, and was born in November.\n",
      "\tJason Thompson works in the Finance department, and was born in December.\n",
      "\tStephanie Lewis works in the IT department, and was born in March.\n",
      "Processed 21 lines.\n"
     ]
    }
   ],
   "source": [
    "import csv\n",
    "with open('employee_birthday.txt') as csv_file:\n",
    "    csv_reader = csv.reader(csv_file, delimiter=',')\n",
    "    line_count = 0\n",
    "    for row in csv_reader:\n",
    "        if line_count == 0: #check for a header row\n",
    "            print(f'Column names are {\", \".join(row)}')\n",
    "            #\".join(row) part joins the elements in the row list (which contains the column names) with commas and spaces in between.\n",
    "            line_count += 1\n",
    "        else:\n",
    "            print(f'\\t{row[0]} works in the {row[1]} department, and was born in {row[2]}.')#Formats the data from the row into a sentence structure and prints it.\n",
    "            line_count += 1\n",
    "    print(f'Processed {line_count} lines.')"
   ]
  },
  {
   "cell_type": "code",
   "execution_count": 11,
   "metadata": {
    "metadata": {}
   },
   "outputs": [
    {
     "name": "stdout",
     "output_type": "stream",
     "text": [
      "Column names are Name, Department, Birthday Month\n",
      "\tThere are 8 birthdays in the month of May\n",
      "\tThere are 10 birthdays in the month of September\n",
      "\tThere are 15 birthdays in the month of July\n",
      "\tThere are 11 birthdays in the month of October\n",
      "\tThere are 12 birthdays in the month of December\n",
      "\tThere are 14 birthdays in the month of January\n",
      "\tThere are 13 birthdays in the month of February\n",
      "\tThere are 16 birthdays in the month of March\n",
      "\tThere are 12 birthdays in the month of June\n",
      "\tThere are 11 birthdays in the month of April\n",
      "\tThere are 11 birthdays in the month of June\n",
      "\tThere are 11 birthdays in the month of July\n",
      "\tThere are 12 birthdays in the month of September\n",
      "\tThere are 13 birthdays in the month of January\n",
      "\tThere are 18 birthdays in the month of February\n",
      "\tThere are 12 birthdays in the month of April\n",
      "\tThere are 12 birthdays in the month of June\n",
      "\tThere are 13 birthdays in the month of November\n",
      "\tThere are 14 birthdays in the month of December\n",
      "\tThere are 15 birthdays in the month of March\n",
      "Processed 21 lines.\n"
     ]
    }
   ],
   "source": [
    "#problem statement #1 how many birthdays in each month\n",
    "\n",
    "import csv\n",
    "with open('employee_birthday.txt') as csv_file:\n",
    "    csv_reader = csv.reader(csv_file, delimiter=',')\n",
    "    line_count = 0\n",
    "    for row in csv_reader:\n",
    "        if line_count == 0: #check for a header row\n",
    "            print(f'Column names are {\", \".join(row)}')\n",
    "            #\".join(row) part joins the elements in the row list (which contains the column names) with commas and spaces in between.\n",
    "            line_count += 1\n",
    "        else:\n",
    "            print(f'\\tThere are {len(row[0])} birthdays in the month of {row[2]}')  #Formats the data from the row into a sentence structure and prints it.\n",
    "            line_count += 1\n",
    "    print(f'Processed {line_count} lines.')"
   ]
  },
  {
   "cell_type": "code",
   "execution_count": 13,
   "metadata": {
    "metadata": {}
   },
   "outputs": [
    {
     "data": {
      "text/plain": [
       "{'firstName': 'Jane',\n",
       " 'lastName': 'Doe',\n",
       " 'hobbies': ['running', 'sky diving', 'singing'],\n",
       " 'age': 35,\n",
       " 'children': [{'firstName': 'Alice', 'age': 6},\n",
       "  {'firstName': 'Bob', 'age': 8}]}"
      ]
     },
     "execution_count": 13,
     "metadata": {},
     "output_type": "execute_result"
    }
   ],
   "source": [
    "{\n",
    "    \"firstName\": \"Jane\",\n",
    "    \"lastName\": \"Doe\",\n",
    "    \"hobbies\": [\"running\", \"sky diving\", \"singing\"],\n",
    "    \"age\": 35,\n",
    "    \"children\": [\n",
    "        {\n",
    "            \"firstName\": \"Alice\",\n",
    "            \"age\": 6\n",
    "        },\n",
    "        {\n",
    "            \"firstName\": \"Bob\",\n",
    "            \"age\": 8\n",
    "        }\n",
    "    ]\n",
    "}\n",
    "\n"
   ]
  },
  {
   "cell_type": "code",
   "execution_count": null,
   "metadata": {},
   "outputs": [],
   "source": []
  }
 ],
 "metadata": {
  "kernelspec": {
   "display_name": "Python 3",
   "language": "python",
   "name": "python3"
  },
  "language_info": {
   "codemirror_mode": {
    "name": "ipython",
    "version": 3
   },
   "file_extension": ".py",
   "mimetype": "text/x-python",
   "name": "python",
   "nbconvert_exporter": "python",
   "pygments_lexer": "ipython3",
   "version": "3.11.9"
  }
 },
 "nbformat": 4,
 "nbformat_minor": 2
}
