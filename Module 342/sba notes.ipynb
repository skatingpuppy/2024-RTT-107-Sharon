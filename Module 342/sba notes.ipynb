{
 "cells": [
  {
   "cell_type": "code",
   "execution_count": 3,
   "metadata": {},
   "outputs": [],
   "source": [
    "import json\n",
    "import requests\n",
    "\n",
    "def bodyTemperature(doctorName, diagnosisId):\n",
    "    \n",
    "    baseurl = \"https://jsonmock.hackerrank.com/api/\"\n",
    "    endpoint = \"medical_records\"\n",
    "    num = 1\n",
    "    r = requests.get(baseurl + endpoint + f'?page={num}')\n",
    "    \n",
    "    stuff = r.json()\n",
    "    \n",
    "    all_temp = []\n",
    "    num_in_page = 0\n",
    "    \n",
    "    for i in stuff['data']:\n",
    "        if i['doctor']['id'] == doctorName and i['diagnosis']['id'] == diagnosisId:\n",
    "            all_temp.append(i[\"vitals\"][\"bodyTemperature\"])\n",
    "        num_in_page += 1\n",
    "        if num_in_page == stuff['per_page']:\n",
    "            num += 1\n",
    "    \n",
    "    # #find temp\n",
    "    # vital = stuff['data']['vitals']\n",
    "    # all_temp = []\n",
    "    # num_in_page = 0\n",
    "    # for item in vital:\n",
    "    #     all_temp.append(item[\"bodyTemperature\"])\n",
    "    #     num_in_page += 1\n",
    "    #     if num_in_page == stuff['per_page']:\n",
    "    #         num += 1\n",
    "    \n",
    "    #find min and max from all_temp\n",
    "    temp = [min(all_temp), max(all_temp)]\n",
    "\n",
    "    return all_temp\n",
    "    return temp"
   ]
  },
  {
   "cell_type": "code",
   "execution_count": 4,
   "metadata": {},
   "outputs": [
    {
     "ename": "ValueError",
     "evalue": "min() arg is an empty sequence",
     "output_type": "error",
     "traceback": [
      "\u001b[1;31m---------------------------------------------------------------------------\u001b[0m",
      "\u001b[1;31mValueError\u001b[0m                                Traceback (most recent call last)",
      "Cell \u001b[1;32mIn[4], line 5\u001b[0m\n\u001b[0;32m      1\u001b[0m doctorName \u001b[38;5;241m=\u001b[39m \u001b[38;5;124m\"\u001b[39m\u001b[38;5;124mBob Martin\u001b[39m\u001b[38;5;124m\"\u001b[39m\n\u001b[0;32m      3\u001b[0m diagnosisId \u001b[38;5;241m=\u001b[39m \u001b[38;5;241m2\u001b[39m\n\u001b[1;32m----> 5\u001b[0m result \u001b[38;5;241m=\u001b[39m \u001b[43mbodyTemperature\u001b[49m\u001b[43m(\u001b[49m\u001b[43mdoctorName\u001b[49m\u001b[43m,\u001b[49m\u001b[43m \u001b[49m\u001b[43mdiagnosisId\u001b[49m\u001b[43m)\u001b[49m\n\u001b[0;32m      7\u001b[0m \u001b[38;5;28mprint\u001b[39m(result)\n",
      "Cell \u001b[1;32mIn[3], line 34\u001b[0m, in \u001b[0;36mbodyTemperature\u001b[1;34m(doctorName, diagnosisId)\u001b[0m\n\u001b[0;32m     21\u001b[0m         num \u001b[38;5;241m+\u001b[39m\u001b[38;5;241m=\u001b[39m \u001b[38;5;241m1\u001b[39m\n\u001b[0;32m     23\u001b[0m \u001b[38;5;66;03m# #find temp\u001b[39;00m\n\u001b[0;32m     24\u001b[0m \u001b[38;5;66;03m# vital = stuff['data']['vitals']\u001b[39;00m\n\u001b[0;32m     25\u001b[0m \u001b[38;5;66;03m# all_temp = []\u001b[39;00m\n\u001b[1;32m   (...)\u001b[0m\n\u001b[0;32m     32\u001b[0m \n\u001b[0;32m     33\u001b[0m \u001b[38;5;66;03m#find min and max from all_temp\u001b[39;00m\n\u001b[1;32m---> 34\u001b[0m temp \u001b[38;5;241m=\u001b[39m [\u001b[38;5;28;43mmin\u001b[39;49m\u001b[43m(\u001b[49m\u001b[43mall_temp\u001b[49m\u001b[43m)\u001b[49m, \u001b[38;5;28mmax\u001b[39m(all_temp)]\n\u001b[0;32m     36\u001b[0m \u001b[38;5;28;01mreturn\u001b[39;00m all_temp\n\u001b[0;32m     37\u001b[0m \u001b[38;5;28;01mreturn\u001b[39;00m temp\n",
      "\u001b[1;31mValueError\u001b[0m: min() arg is an empty sequence"
     ]
    }
   ],
   "source": [
    "doctorName = \"Bob Martin\"\n",
    "\n",
    "diagnosisId = 2\n",
    "\n",
    "result = bodyTemperature(doctorName, diagnosisId)\n",
    "\n",
    "print(result)"
   ]
  },
  {
   "cell_type": "code",
   "execution_count": 24,
   "metadata": {},
   "outputs": [
    {
     "name": "stdout",
     "output_type": "stream",
     "text": [
      "1\n",
      "2\n",
      "3\n",
      "4\n",
      "5\n",
      "6\n",
      "7\n",
      "8\n",
      "9\n",
      "10\n",
      "[100, 99.2, 101, 99, 102.6, 102.5, 103, 100.1, 99.3, 102.8, 101.7, 101, 102]\n"
     ]
    }
   ],
   "source": [
    "import json\n",
    "import requests\n",
    "\n",
    "baseurl = \"https://jsonmock.hackerrank.com/api/\"\n",
    "endpoint = \"medical_records\"\n",
    "num = 1\n",
    "r = requests.get(baseurl + endpoint + f'?page={num}')\n",
    "stuff = r.json()\n",
    "\n",
    "all_temp = []\n",
    "num_in_page = 0\n",
    "\n",
    "\n",
    "\n",
    "# for i in range(0, stuff['total_pages']):\n",
    "#      print(i)\n",
    "\n",
    "\n",
    "\n",
    "\n",
    "#while num < stuff['total_pages']:\n",
    "for i in range(0, stuff['total_pages']):\n",
    "    print(num)\n",
    "    for i in stuff['data']:\n",
    "        num_in_page += 1\n",
    "        #print(num_in_page)\n",
    "        #if i['doctor']['name'] == doctorName and i['diagnosis']['id'] == diagnosisId:\n",
    "        if i['doctor']['name'] == \"Dr Arnold Bullock\" and i['diagnosis']['id'] == 3:\n",
    "                all_temp.append(i[\"vitals\"][\"bodyTemperature\"])\n",
    "        if num_in_page == stuff['per_page']:\n",
    "            num_in_page = 0\n",
    "            num += 1\n",
    "            r = requests.get(baseurl + endpoint + f'?page={num}')\n",
    "            stuff = r.json()\n",
    "\n",
    "\n",
    "# while num < stuff['total_pages']:\n",
    "#     while num_in_page != stuff['per_page']:\n",
    "#         for i in stuff['data']:\n",
    "#             num_in_page += 1\n",
    "#             if i['doctor']['name'] == \"Dr Arnold Bullock\" and i['diagnosis']['id'] == 3:\n",
    "#                 all_temp.append(i[\"vitals\"][\"bodyTemperature\"])\n",
    "#     num += 1\n",
    "#     r = requests.get(baseurl + endpoint + f'?page={num}')\n",
    "#     stuff = r.json()\n",
    "\n",
    "print(all_temp)\n",
    "\n",
    "# temp = [int(min(all_temp)), int(max(all_temp))]\n",
    "#     #return all_temp\n",
    "# print(temp)"
   ]
  },
  {
   "cell_type": "code",
   "execution_count": 59,
   "metadata": {},
   "outputs": [],
   "source": [
    "def bodyTemperature(doctorName, diagnosisId):\n",
    "    baseurl = \"https://jsonmock.hackerrank.com/api/\"\n",
    "    endpoint = \"medical_records\"\n",
    "    num = 1\n",
    "    r = requests.get(baseurl + endpoint + f'?page={num}')\n",
    "    stuff = r.json()\n",
    "\n",
    "    all_temp = []\n",
    "    num_in_page = 0\n",
    "\n",
    "    for i in range(stuff['total_pages']):\n",
    "        for i in stuff['data']:\n",
    "            num_in_page += 1\n",
    "            if i['doctor']['name'] == doctorName and i['diagnosis']['id'] == diagnosisId:\n",
    "            #if i['doctor']['name'] == \"Dr Arnold Bullock\" and i['diagnosis']['id'] == 3:\n",
    "                    all_temp.append(i[\"vitals\"][\"bodyTemperature\"])\n",
    "            if num_in_page == stuff['per_page']:\n",
    "                num_in_page = 0\n",
    "                num += 1\n",
    "                r = requests.get(baseurl + endpoint + f'?page={num}')\n",
    "                stuff = r.json()\n",
    "\n",
    "    temp = [int(min(all_temp)), int(max(all_temp))]\n",
    "    return temp\n"
   ]
  },
  {
   "cell_type": "code",
   "execution_count": 60,
   "metadata": {},
   "outputs": [
    {
     "name": "stdout",
     "output_type": "stream",
     "text": [
      "[99, 101]\n"
     ]
    }
   ],
   "source": [
    "doctorName = \"Dr Arnold Bullock\"\n",
    "\n",
    "diagnosisId = 2\n",
    "\n",
    "result = bodyTemperature(doctorName, diagnosisId)\n",
    "\n",
    "print(result)"
   ]
  },
  {
   "cell_type": "code",
   "execution_count": null,
   "metadata": {},
   "outputs": [],
   "source": []
  }
 ],
 "metadata": {
  "kernelspec": {
   "display_name": "Python 3",
   "language": "python",
   "name": "python3"
  },
  "language_info": {
   "codemirror_mode": {
    "name": "ipython",
    "version": 3
   },
   "file_extension": ".py",
   "mimetype": "text/x-python",
   "name": "python",
   "nbconvert_exporter": "python",
   "pygments_lexer": "ipython3",
   "version": "3.11.9"
  }
 },
 "nbformat": 4,
 "nbformat_minor": 2
}
