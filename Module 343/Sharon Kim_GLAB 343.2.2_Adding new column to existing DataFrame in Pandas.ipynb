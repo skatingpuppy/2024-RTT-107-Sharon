{
 "cells": [
  {
   "cell_type": "markdown",
   "metadata": {},
   "source": [
    "Sharon Kim\n",
    "GLAB 343.2.2 Adding new column to existing DataFrame in Pandas"
   ]
  },
  {
   "cell_type": "markdown",
   "metadata": {},
   "source": [
    "Method #1: By Dictionary and declaring a new list as a column. "
   ]
  },
  {
   "cell_type": "code",
   "execution_count": 1,
   "metadata": {},
   "outputs": [
    {
     "name": "stdout",
     "output_type": "stream",
     "text": [
      "------before -------\n",
      "     Name  Height Qualification  Score 1  Score 2\n",
      "0    Jane     5.1           Msc       56       50\n",
      "1  Princi     6.2            MA       86       96\n",
      "2   James     5.1           Msc       77       60\n",
      "3    Fadi     5.2           Msc       45       30\n",
      "------after adding column -------\n",
      "     Name  Height Qualification  Score 1  Score 2 Address\n",
      "0    Jane     5.1           Msc       56       50     NYC\n",
      "1  Princi     6.2            MA       86       96      NJ\n",
      "2   James     5.1           Msc       77       60      CA\n",
      "3    Fadi     5.2           Msc       45       30      PA\n"
     ]
    }
   ],
   "source": [
    "#Example 1.1:\n",
    "#Note that the length of your list should match the length of the index column; otherwise, it will show an error. \n",
    "import pandas as pd\n",
    "  \n",
    "# Define a dictionary containing Students data\n",
    "data = {'Name': ['Jane', 'Princi', 'James', 'Fadi'],\n",
    "        'Height': [5.1, 6.2, 5.1, 5.2],\n",
    "        'Qualification': ['Msc', 'MA', 'Msc', 'Msc'],\n",
    "        'Score 1' : [56,86,77,45],\n",
    "        'Score 2' : [50,96,60,30]}\n",
    "  \n",
    "# Convert the dictionary into DataFrame\n",
    "df = pd.DataFrame(data)\n",
    "print(\"------before -------\")\n",
    "print(df)\n",
    "\n",
    "\n",
    "# Declare a list that is to be converted into a column\n",
    "address = ['NYC', 'NJ', 'CA', 'PA']\n",
    "  \n",
    "# Using 'Address' as the column name\n",
    "# and equating it to the list\n",
    "df['Address'] = address\n",
    "print(\"------after adding column -------\")\n",
    "# Observe the result\n",
    "print(df)\n"
   ]
  },
  {
   "cell_type": "code",
   "execution_count": 2,
   "metadata": {},
   "outputs": [
    {
     "name": "stdout",
     "output_type": "stream",
     "text": [
      "------before -------\n",
      "     Name  Height Qualification  Score 1  Score 2\n",
      "0    Jane     5.1           Msc       56       50\n",
      "1  Princi     6.2            MA       86       96\n",
      "2   James     5.1           Msc       77       60\n",
      "3    Fadi     5.2           Msc       45       30\n",
      "------after adding column -------\n",
      "     Name  Height Qualification  Score 1  Score 2  Total_Score\n",
      "0    Jane     5.1           Msc       56       50          106\n",
      "1  Princi     6.2            MA       86       96          182\n",
      "2   James     5.1           Msc       77       60          137\n",
      "3    Fadi     5.2           Msc       45       30           75\n"
     ]
    }
   ],
   "source": [
    "#Example: 1.2\n",
    "#You can apply basic arithmetic operations such as addition, subtraction, multiplication, and division to Pandas DataFrame objects the same way you would with NumPy arrays:\n",
    "data = {'Name': ['Jane', 'Princi', 'James', 'Fadi'],\n",
    "        'Height': [5.1, 6.2, 5.1, 5.2],\n",
    "        'Qualification': ['Msc', 'MA', 'Msc', 'Msc'],\n",
    "       'Score 1' : [56,86,77,45],\n",
    "           'Score 2' : [50,96,60,30]}\n",
    "\n",
    "# Convert the dictionary into DataFrame\n",
    "df = pd.DataFrame(data)\n",
    "print(\"------before -------\")\n",
    "print(df)\n",
    "print(\"------after adding column -------\")\n",
    "\n",
    "df['Total_Score'] = df['Score 1'] +  df['Score 2']\n",
    "\n",
    "print(df)\n",
    "\n"
   ]
  },
  {
   "cell_type": "code",
   "execution_count": 3,
   "metadata": {},
   "outputs": [
    {
     "name": "stdout",
     "output_type": "stream",
     "text": [
      "------before -------\n",
      "     Name  Height Qualification  Score 1  Score 2\n",
      "0    Jane     5.1           Msc       56       50\n",
      "1  Princi     6.2            MA       86       96\n",
      "2   James     5.1           Msc       77       60\n",
      "3    Fadi     5.2           Msc       45       30\n",
      "------after adding column -------\n",
      "     Name  Height Qualification  Score 1  Score 2  Total_Score  \\\n",
      "0    Jane     5.1           Msc       56       50          106   \n",
      "1  Princi     6.2            MA       86       96          182   \n",
      "2   James     5.1           Msc       77       60          137   \n",
      "3    Fadi     5.2           Msc       45       30           75   \n",
      "\n",
      "   Total_Score_average  \n",
      "0                 53.0  \n",
      "1                 91.0  \n",
      "2                 68.5  \n",
      "3                 37.5  \n"
     ]
    }
   ],
   "source": [
    "#Example: 1.3\n",
    "data = {'Name': ['Jane', 'Princi', 'James', 'Fadi'],\n",
    "        'Height': [5.1, 6.2, 5.1, 5.2],\n",
    "        'Qualification': ['Msc', 'MA', 'Msc', 'Msc'],\n",
    "       'Score 1' : [56,86,77,45],\n",
    "           'Score 2' : [50,96,60,30]}\n",
    "\n",
    "# Convert the dictionary into DataFrame\n",
    "df = pd.DataFrame(data)\n",
    "print(\"------before -------\")\n",
    "print(df)\n",
    "print(\"------after adding column -------\")\n",
    "\n",
    "df['Total_Score'] = df['Score 1'] +  df['Score 2']\n",
    "df['Total_Score_average'] = df['Total_Score']/ 2\n",
    "print(df)\n"
   ]
  },
  {
   "cell_type": "code",
   "execution_count": 4,
   "metadata": {},
   "outputs": [
    {
     "name": "stdout",
     "output_type": "stream",
     "text": [
      "------before -------\n",
      "   Score 1  Score 2    Name Qualification\n",
      "0       56       50    Jane           Msc\n",
      "1       86       96  Princi            MA\n",
      "2       77       60   James           Msc\n",
      "3       45       30    Fadi           Msc\n",
      "------after adding column -------\n",
      "   Score 1  Score 2    Name Qualification  Total_Score\n",
      "0       56       50    Jane           Msc          106\n",
      "1       86       96  Princi            MA          182\n",
      "2       77       60   James           Msc          137\n",
      "3       45       30    Fadi           Msc           75\n"
     ]
    }
   ],
   "source": [
    "#Example: 1.4\n",
    "data = {'Name': ['Jane', 'Princi', 'James', 'Fadi'],\n",
    "        'Height': [5.1, 6.2, 5.1, 5.2],\n",
    "        'Qualification': ['Msc', 'MA', 'Msc', 'Msc'],\n",
    "       'Score 1' : [56,86,77,45],\n",
    "       'Score 2' : [50,96,60,30]\n",
    "       }\n",
    "\n",
    "# Convert the dictionary into DataFrame\n",
    "df = pd.DataFrame(data,columns = ['Score 1','Score 2','Name', 'Qualification'  ])\n",
    "print(\"------before -------\")\n",
    "print(df)\n",
    "print(\"------after adding column -------\")\n",
    "\n",
    "df['Total_Score'] = df['Score 1'] +  df['Score 2']\n",
    "print(df)\n"
   ]
  },
  {
   "cell_type": "code",
   "execution_count": 5,
   "metadata": {},
   "outputs": [
    {
     "name": "stdout",
     "output_type": "stream",
     "text": [
      "Data frame before calculating percentage\n",
      "\n",
      "     Name  Univ_Marks\n",
      "0   Rohan         455\n",
      "1  Elvish         250\n",
      "2    John         495\n",
      "3     Sai         400\n",
      "4    Eric         350\n",
      "5    Adam         450\n",
      "\n",
      "Data frame with Percentage Column\n",
      "\n",
      "     Name  Univ_Marks  Percentage\n",
      "0   Rohan         455        91.0\n",
      "1  Elvish         250        50.0\n",
      "2    John         495        99.0\n",
      "3     Sai         400        80.0\n",
      "4    Eric         350        70.0\n",
      "5    Adam         450        90.0\n"
     ]
    }
   ],
   "source": [
    "#Example 1.5\n",
    "\n",
    "# importing pandas library\n",
    "import pandas as pd\n",
    " \n",
    "# creating and initializing a list\n",
    "values = [['Rohan', 455], ['Elvish', 250], ['John', 495],\n",
    "          ['Sai', 400], ['Eric', 350], ['Adam', 450]]\n",
    " \n",
    "# creating a pandas dataframe\n",
    "df = pd.DataFrame(values, columns=['Name', 'Univ_Marks'])\n",
    " \n",
    "# displaying the data frame\n",
    " \n",
    "print('Data frame before calculating percentage\\n')\n",
    "print(df)\n",
    "print('\\nData frame with Percentage Column\\n')\n",
    " \n",
    "# Creating new column Percentage derived from Univ_Marks\n",
    "df[\"Percentage\"] = df[\"Univ_Marks\"]/500*100\n",
    " \n",
    "# displaying the data frame\n",
    "print(df)\n"
   ]
  },
  {
   "cell_type": "markdown",
   "metadata": {},
   "source": [
    "Method #2: By using DataFrame.insert() function"
   ]
  },
  {
   "cell_type": "code",
   "execution_count": 6,
   "metadata": {},
   "outputs": [
    {
     "name": "stdout",
     "output_type": "stream",
     "text": [
      "------before -------\n",
      "     Name  Height Qualification  Score 1  Score 2\n",
      "0    Jane     5.1           Msc       56       50\n",
      "1  Princi     6.2            MA       86       96\n",
      "2   James     5.1           Msc       77       60\n",
      "3    Fadi     5.2           Msc       45       30\n",
      "------after adding column -------\n",
      "     Name  Height  Age Qualification  Score 1  Score 2\n",
      "0    Jane     5.1   21           Msc       56       50\n",
      "1  Princi     6.2   23            MA       86       96\n",
      "2   James     5.1   24           Msc       77       60\n",
      "3    Fadi     5.2   21           Msc       45       30\n"
     ]
    }
   ],
   "source": [
    "#Example 2.1\n",
    "# Import pandas package \n",
    "import pandas as pd\n",
    "  \n",
    "# Define a dictionary containing Students data\n",
    "data = {'Name': ['Jane', 'Princi', 'James', 'Fadi'],\n",
    "        'Height': [5.1, 6.2, 5.1, 5.2],\n",
    "        'Qualification': ['Msc', 'MA', 'Msc', 'Msc'],\n",
    "       'Score 1' : [56,86,77,45],\n",
    "           'Score 2' : [50,96,60,30]}\n",
    "  \n",
    "# Convert the dictionary into DataFrame\n",
    "df = pd.DataFrame(data)\n",
    "print(\"------before -------\")\n",
    "print(df)\n",
    "# Using DataFrame.insert() adding age column\n",
    "df.insert(2, \"Age\", [21, 23, 24, 21], True)\n",
    "print(\"------after adding column -------\")\n",
    "# Observe the result\n",
    "print(df)\n"
   ]
  },
  {
   "cell_type": "markdown",
   "metadata": {},
   "source": [
    "Method #3: Using Dataframe.assign() function"
   ]
  },
  {
   "cell_type": "code",
   "execution_count": 7,
   "metadata": {},
   "outputs": [
    {
     "name": "stdout",
     "output_type": "stream",
     "text": [
      "------before -------\n",
      "     Name  Height Qualification  Score 1  Score 2\n",
      "0    Jane     5.1           Msc       56       50\n",
      "1  Princi     6.2            MA       86       96\n",
      "2   James     5.1           Msc       77       60\n",
      "3    Fadi     5.2           Msc       45       30\n",
      "------after adding column -------\n",
      "     Name  Height Qualification  Score 1  Score 2 address\n",
      "0    Jane     5.1           Msc       56       50     NYC\n",
      "1  Princi     6.2            MA       86       96      NJ\n",
      "2   James     5.1           Msc       77       60      CA\n",
      "3    Fadi     5.2           Msc       45       30      PA\n"
     ]
    }
   ],
   "source": [
    "#Example 3.1\n",
    "#This method will create a new dataframe with a new column added to the old dataframe.\n",
    "\n",
    "# Import pandas package\n",
    "import pandas as pd\n",
    "  \n",
    "# Define a dictionary containing Students data\n",
    "data = {'Name': ['Jane', 'Princi', 'James', 'Fadi'],\n",
    "        'Height': [5.1, 6.2, 5.1, 5.2],\n",
    "        'Qualification': ['Msc', 'MA', 'Msc', 'Msc'],\n",
    "       'Score 1' : [56,86,77,45],\n",
    "           'Score 2' : [50,96,60,30]}\n",
    "  \n",
    "print(\"------before -------\")  \n",
    "  \n",
    "# Convert the dictionary into DataFrame\n",
    "df = pd.DataFrame(data)\n",
    "print(df)\n",
    "print(\"------after adding column -------\")\n",
    "# using DataFrame.assign() method adding 'Address' as the column name and equating it to the list\n",
    "df = df.assign(address = ['NYC', 'NJ', 'CA', 'PA'])\n",
    "  \n",
    "# Observe the result\n",
    "print(df)\n"
   ]
  },
  {
   "cell_type": "code",
   "execution_count": null,
   "metadata": {},
   "outputs": [],
   "source": []
  },
  {
   "cell_type": "code",
   "execution_count": null,
   "metadata": {},
   "outputs": [],
   "source": []
  }
 ],
 "metadata": {
  "kernelspec": {
   "display_name": "Python 3",
   "language": "python",
   "name": "python3"
  },
  "language_info": {
   "codemirror_mode": {
    "name": "ipython",
    "version": 3
   },
   "file_extension": ".py",
   "mimetype": "text/x-python",
   "name": "python",
   "nbconvert_exporter": "python",
   "pygments_lexer": "ipython3",
   "version": "3.11.9"
  }
 },
 "nbformat": 4,
 "nbformat_minor": 2
}
