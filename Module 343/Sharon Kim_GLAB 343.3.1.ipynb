{
 "cells": [
  {
   "cell_type": "markdown",
   "metadata": {},
   "source": [
    "Sharon Kim\n",
    "GLAB 343.3.1 Handling Missing Data"
   ]
  },
  {
   "cell_type": "code",
   "execution_count": 1,
   "metadata": {},
   "outputs": [
    {
     "name": "stdout",
     "output_type": "stream",
     "text": [
      "        Name   Age  Weight     Salary\n",
      "0      James  36.0    75.0  5428000.0\n",
      "1    Villers  38.0    74.0  3428000.0\n",
      "2      VKole  31.0    70.0  8428000.0\n",
      "3      Smith  34.0    80.0  4428000.0\n",
      "4      Gayle  40.0   100.0  4528000.0\n",
      "5       Adam  40.0     NaN  4528000.0\n",
      "6     Rooter  33.0    72.0  7028000.0\n",
      "7   Peterson  42.0    85.0  2528000.0\n",
      "8      lynda  42.0    85.0        NaN\n",
      "9        NaN  42.0    85.0        NaN\n",
      "10     Jenny   NaN   100.0    25632.0\n",
      "11      Kenn   NaN   110.0    25632.0\n",
      "12       Aly   NaN    90.0    25582.0\n",
      "13      John  41.0    85.0  1528000.0\n",
      "---- after dropping or cleaning the missing data ---\n",
      "        Name   Age  Weight     Salary\n",
      "0      James  36.0    75.0  5428000.0\n",
      "1    Villers  38.0    74.0  3428000.0\n",
      "2      VKole  31.0    70.0  8428000.0\n",
      "3      Smith  34.0    80.0  4428000.0\n",
      "4      Gayle  40.0   100.0  4528000.0\n",
      "6     Rooter  33.0    72.0  7028000.0\n",
      "7   Peterson  42.0    85.0  2528000.0\n",
      "13      John  41.0    85.0  1528000.0\n"
     ]
    }
   ],
   "source": [
    "#Example 1: Dropping or Cleaning the Missing Data Using df.dropna() Method\n",
    "\n",
    "'''\n",
    "This following example initializes a pandas DataFrame with a dataset representing information about employees. \n",
    "It then demonstrates how to handle missing data by dropping rows containing NaN (Not a Number) values using the dropna() function. \n",
    "The dropna() function drops all the rows with missing values.\n",
    "'''\n",
    "\n",
    "## Initializing the nested list with Data set\n",
    "import numpy as np\n",
    "import pandas as pd\n",
    "employee_list = [['James', 36, 75, 5428000],\n",
    "               ['Villers', 38, 74, 3428000],\n",
    "               ['VKole', 31, 70, 8428000],\n",
    "               ['Smith', 34, 80, 4428000],\n",
    "               ['Gayle', 40, 100, 4528000],\n",
    "               ['Adam', 40, np.nan, 4528000],\n",
    "               ['Rooter', 33, 72, 7028000],\n",
    "               ['Peterson', 42, 85, 2528000],\n",
    "               ['lynda', 42, 85, np.nan],\n",
    "               [np.nan, 42, 85, np.nan],\n",
    "               ['Jenny', np.nan, 100, 25632],\n",
    "               ['Kenn', np.nan, 110, 25632],\n",
    "                ['Aly', np.nan, 90, 25582],\n",
    "               ['John', 41, 85, 1528000]]\n",
    " \n",
    "# creating a pandas dataframe\n",
    "df = pd.DataFrame(employee_list, columns=['Name', 'Age', 'Weight', 'Salary'])\n",
    "\n",
    "print(df)\n",
    "print('---- after dropping or cleaning the missing data ---')\n",
    "df = df.dropna()\n",
    "print(df)\n",
    "\n"
   ]
  },
  {
   "cell_type": "code",
   "execution_count": 2,
   "metadata": {},
   "outputs": [
    {
     "name": "stdout",
     "output_type": "stream",
     "text": [
      "        Name  Age  Weight     Salary\n",
      "0      James   36    75.0  5428000.0\n",
      "1    Villers   38    74.0  3428000.0\n",
      "2      VKole   31    70.0  8428000.0\n",
      "3      Smith   34    80.0  4428000.0\n",
      "4      Gayle   40   100.0  4528000.0\n",
      "5       Adam   40     NaN  4528000.0\n",
      "6     Rooter   33    72.0  7028000.0\n",
      "7   Peterson   42    85.0  2528000.0\n",
      "8      lynda   42    85.0        NaN\n",
      "9        NaN   42    85.0        NaN\n",
      "10      John   41    85.0  1528000.0\n"
     ]
    }
   ],
   "source": [
    "#Example 2: Filling Missing Data Using df.fillna() Method\n",
    "\n",
    "'''\n",
    "Parameters:\n",
    "value\n",
    "method\n",
    "axis\n",
    "inplace\n",
    "limit\n",
    "downcast\n",
    "**kwargs\n",
    "'''\n",
    "\n",
    "# Initializing the nested list with Data set\n",
    "employee_list = [['James', 36, 75, 5428000],\n",
    "               ['Villers', 38, 74, 3428000],\n",
    "               ['VKole', 31, 70, 8428000],\n",
    "               ['Smith', 34, 80, 4428000],\n",
    "               ['Gayle', 40, 100, 4528000],\n",
    "               ['Adam', 40, np.nan, 4528000],\n",
    "               ['Rooter', 33, 72, 7028000],\n",
    "               ['Peterson', 42, 85, 2528000],\n",
    "               ['lynda', 42, 85, np.nan],\n",
    "               [np.nan, 42, 85, np.nan],\n",
    "               ['John', 41, 85, 1528000],]\n",
    " \n",
    "# creating a pandas dataframe\n",
    "df = pd.DataFrame(employee_list, columns=['Name', 'Age', 'Weight', 'Salary'])\n",
    " \n",
    "print(df)\n"
   ]
  },
  {
   "cell_type": "code",
   "execution_count": 3,
   "metadata": {},
   "outputs": [
    {
     "name": "stdout",
     "output_type": "stream",
     "text": [
      "---------------Before Cleaning NaN values--------------\n",
      "        Name   Age  Weight     Salary\n",
      "0      James  36.0    75.0  5428000.0\n",
      "1    Villers  38.0    74.0  3428000.0\n",
      "2       Kole  31.0    70.0  8428000.0\n",
      "3      Smith  34.0    80.0  4428000.0\n",
      "4      Gayle  40.0   100.0  4528000.0\n",
      "5       Adam  40.0     NaN  4528000.0\n",
      "6     Rooter  33.0    72.0  7028000.0\n",
      "7   Peterson  42.0    85.0  2528000.0\n",
      "8      lynda  42.0    85.0        NaN\n",
      "9        NaN  42.0    85.0        NaN\n",
      "10     Jenny   NaN   100.0    25632.0\n",
      "11      Kenn   NaN   110.0    25632.0\n",
      "12       Aly   NaN    90.0    25582.0\n",
      "13      John  41.0    85.0  1528000.0\n",
      "---------------after filling all columns------------\n",
      "        Name   Age Weight     Salary\n",
      "0      James  36.0   75.0  5428000.0\n",
      "1    Villers  38.0   74.0  3428000.0\n",
      "2       Kole  31.0   70.0  8428000.0\n",
      "3      Smith  34.0   80.0  4428000.0\n",
      "4      Gayle  40.0  100.0  4528000.0\n",
      "5       Adam  40.0   None  4528000.0\n",
      "6     Rooter  33.0   72.0  7028000.0\n",
      "7   Peterson  42.0   85.0  2528000.0\n",
      "8      lynda  42.0   85.0       None\n",
      "9       None  42.0   85.0       None\n",
      "10     Jenny  None  100.0    25632.0\n",
      "11      Kenn  None  110.0    25632.0\n",
      "12       Aly  None   90.0    25582.0\n",
      "13      John  41.0   85.0  1528000.0\n"
     ]
    }
   ],
   "source": [
    "#Example 2.1: fillna() on all columns\n",
    "\n",
    "# fillna() on all columns\n",
    "# Initializing the nested list with Data set\n",
    "employee_list = [['James', 36, 75, 5428000],\n",
    "               ['Villers', 38, 74, 3428000],\n",
    "               ['Kole', 31, 70, 8428000],\n",
    "               ['Smith', 34, 80, 4428000],\n",
    "               ['Gayle', 40, 100, 4528000],\n",
    "               ['Adam', 40, np.nan, 4528000],\n",
    "               ['Rooter', 33, 72, 7028000],\n",
    "               ['Peterson', 42, 85, 2528000],\n",
    "               ['lynda', 42, 85, np.nan],\n",
    "               [np.nan, 42, 85, np.nan],\n",
    "               ['Jenny', np.nan, 100, 25632],\n",
    "               ['Kenn', np.nan, 110, 25632],\n",
    "                ['Aly', np.nan, 90, 25582],\n",
    "               ['John', 41, 85, 1528000],]\n",
    " \n",
    "# creating a pandas dataframe\n",
    "df = pd.DataFrame(employee_list, columns=['Name', 'Age', 'Weight', 'Salary'])\n",
    "print(\"---------------Before Cleaning NaN values--------------\")\n",
    "print(df)\n",
    "print('---------------after filling all columns------------')\n",
    "print(df.fillna('None'))\n"
   ]
  },
  {
   "cell_type": "code",
   "execution_count": 4,
   "metadata": {},
   "outputs": [
    {
     "name": "stdout",
     "output_type": "stream",
     "text": [
      "---------------Before Cleaning NaN values--------------\n",
      "        Name   Age  Weight     Salary\n",
      "0      James  36.0    75.0  5428000.0\n",
      "1    Villers  38.0    74.0  3428000.0\n",
      "2      VKole  31.0    70.0  8428000.0\n",
      "3      Smith  34.0    80.0  4428000.0\n",
      "4      Gayle  40.0   100.0  4528000.0\n",
      "5       Adam  40.0     NaN  4528000.0\n",
      "6     Rooter  33.0    72.0  7028000.0\n",
      "7   Peterson  42.0    85.0  2528000.0\n",
      "8      lynda  42.0    85.0        NaN\n",
      "9        NaN  42.0    85.0        NaN\n",
      "10     Jenny   NaN   100.0    25632.0\n",
      "11      Kenn   NaN   110.0    25632.0\n",
      "12       Aly   NaN    90.0    25582.0\n",
      "13      John  41.0    85.0  1528000.0\n",
      "---------------after Cleaning NaN values from multiple columns--------------\n",
      "     Weight      Age\n",
      "0      75.0     36.0\n",
      "1      74.0     38.0\n",
      "2      70.0     31.0\n",
      "3      80.0     34.0\n",
      "4     100.0     40.0\n",
      "5   pending     40.0\n",
      "6      72.0     33.0\n",
      "7      85.0     42.0\n",
      "8      85.0     42.0\n",
      "9      85.0     42.0\n",
      "10    100.0  pending\n",
      "11    110.0  pending\n",
      "12     90.0  pending\n",
      "13     85.0     41.0\n"
     ]
    }
   ],
   "source": [
    "#Example 2.2:  Fill same value on multiple columns from NaN values\n",
    "\n",
    "#The below example updates columns 'Weight' and 'Age' with 'pending' for NaN values:\n",
    "\n",
    "employee_list = [['James', 36, 75, 5428000],\n",
    "               ['Villers', 38, 74, 3428000],\n",
    "               ['VKole', 31, 70, 8428000],\n",
    "               ['Smith', 34, 80, 4428000],\n",
    "               ['Gayle', 40, 100, 4528000],\n",
    "               ['Adam', 40, np.nan, 4528000],\n",
    "               ['Rooter', 33, 72, 7028000],\n",
    "               ['Peterson', 42, 85, 2528000],\n",
    "               ['lynda', 42, 85, np.nan],\n",
    "               [np.nan, 42, 85, np.nan],\n",
    "               ['Jenny', np.nan, 100, 25632],\n",
    "               ['Kenn', np.nan, 110, 25632],\n",
    "                ['Aly', np.nan, 90, 25582],\n",
    "               ['John', 41, 85, 1528000],]\n",
    " \n",
    "# creating a pandas dataframe\n",
    "df = pd.DataFrame(employee_list, columns=['Name', 'Age', 'Weight', 'Salary'])\n",
    "print(\"---------------Before Cleaning NaN values--------------\")\n",
    "print(df)\n",
    "\n",
    "print(\"---------------after Cleaning NaN values from multiple columns--------------\")\n",
    "df =df[['Weight','Age']].fillna('pending')\n",
    "print(df)\n"
   ]
  },
  {
   "cell_type": "code",
   "execution_count": 5,
   "metadata": {},
   "outputs": [
    {
     "name": "stdout",
     "output_type": "stream",
     "text": [
      "---------------Before Cleaning NaN values--------------\n",
      "        Name   Age  Weight     Salary\n",
      "0      James  36.0    75.0  5428000.0\n",
      "1    Villers  38.0    74.0  3428000.0\n",
      "2      VKole  31.0    70.0  8428000.0\n",
      "3      Smith  34.0    80.0  4428000.0\n",
      "4      Gayle  40.0   100.0  4528000.0\n",
      "5       Adam  40.0     NaN  4528000.0\n",
      "6     Rooter  33.0    72.0  7028000.0\n",
      "7   Peterson  42.0    85.0  2528000.0\n",
      "8      lynda  42.0    85.0        NaN\n",
      "9        NaN  42.0    85.0        NaN\n",
      "10     Jenny   NaN   100.0    25632.0\n",
      "11      Kenn   NaN   110.0    25632.0\n",
      "12       Aly   NaN    90.0    25582.0\n",
      "13      John  41.0    85.0  1528000.0\n",
      "-----after Cleaning NaN values from multiple columns--------------\n",
      "                    Name      Age   Weight     Salary\n",
      "0                  James     36.0     75.0  5428000.0\n",
      "1                Villers     38.0     74.0  3428000.0\n",
      "2                  VKole     31.0     70.0  8428000.0\n",
      "3                  Smith     34.0     80.0  4428000.0\n",
      "4                  Gayle     40.0    100.0  4528000.0\n",
      "5                   Adam     40.0  Pending  4528000.0\n",
      "6                 Rooter     33.0     72.0  7028000.0\n",
      "7               Peterson     42.0     85.0  2528000.0\n",
      "8                  lynda     42.0     85.0        0.0\n",
      "9   Verification pending     42.0     85.0        0.0\n",
      "10                 Jenny  Unknown    100.0    25632.0\n",
      "11                  Kenn  Unknown    110.0    25632.0\n",
      "12                   Aly  Unknown     90.0    25582.0\n",
      "13                  John     41.0     85.0  1528000.0\n"
     ]
    }
   ],
   "source": [
    "#Example 2.3:  Fill different value for each column from NaN values\n",
    "\n",
    "employee_list = [['James', 36, 75, 5428000],\n",
    "               ['Villers', 38, 74, 3428000],\n",
    "               ['VKole', 31, 70, 8428000],\n",
    "               ['Smith', 34, 80, 4428000],\n",
    "               ['Gayle', 40, 100, 4528000],\n",
    "               ['Adam', 40, np.nan, 4528000],\n",
    "               ['Rooter', 33, 72, 7028000],\n",
    "               ['Peterson', 42, 85, 2528000],\n",
    "               ['lynda', 42, 85, np.nan],\n",
    "               [np.nan, 42, 85, np.nan],\n",
    "               ['Jenny', np.nan, 100, 25632],\n",
    "               ['Kenn', np.nan, 110, 25632],\n",
    "                ['Aly', np.nan, 90, 25582],\n",
    "               ['John', 41, 85, 1528000],]\n",
    " \n",
    "# creating a pandas dataframe\n",
    "df = pd.DataFrame(employee_list, columns=['Name', 'Age', 'Weight', 'Salary'])\n",
    "print(\"---------------Before Cleaning NaN values--------------\")\n",
    "print(df)\n",
    "print(\"-----after Cleaning NaN values from multiple columns--------------\")\n",
    "\n",
    "df2 = df.fillna(value={'Weight':'Pending','Age':\"Unknown\", 'Salary': \"0.0\", 'Name': \"Verification pending\"})\n",
    "\n",
    "print(df2)\n"
   ]
  },
  {
   "cell_type": "code",
   "execution_count": 6,
   "metadata": {},
   "outputs": [
    {
     "name": "stdout",
     "output_type": "stream",
     "text": [
      "  Courses      Fee Duration  Discount\n",
      "0   Spark  20000.0      NaN    1000.0\n",
      "1     NaN  25000.0   40days       NaN\n",
      "2  Hadoop      NaN   35days    1500.0\n",
      "3  Python  22000.0      NaN       NaN\n",
      "4  pandas  24000.0   60days    2500.0\n",
      "5     NaN      NaN   50days    2100.0\n",
      "6    Java  22000.0   55days       NaN\n"
     ]
    }
   ],
   "source": [
    "#Pandas Replace NaN with Blank/Empty String\n",
    "\n",
    "import pandas as pd\n",
    "import numpy as np\n",
    "technologies = {\n",
    "    'Courses':[\"Spark\",np.nan,\"Hadoop\",\"Python\",\"pandas\",np.nan,\"Java\"],\n",
    "    'Fee' :[20000,25000, np.nan,22000,24000,np.nan,22000],\n",
    "    'Duration':[np.nan,'40days','35days', np.nan,'60days','50days','55days'],\n",
    "    'Discount':[1000,np.nan,1500,np.nan,2500,2100,np.nan]\n",
    "              }\n",
    "df = pd.DataFrame(technologies)\n",
    "print(df)\n"
   ]
  },
  {
   "cell_type": "code",
   "execution_count": 7,
   "metadata": {},
   "outputs": [
    {
     "name": "stdout",
     "output_type": "stream",
     "text": [
      "  Courses      Fee Duration Discount\n",
      "0   Spark  20000.0            1000.0\n",
      "1          25000.0   40days         \n",
      "2  Hadoop            35days   1500.0\n",
      "3  Python  22000.0                  \n",
      "4  pandas  24000.0   60days   2500.0\n",
      "5                    50days   2100.0\n",
      "6    Java  22000.0   55days         \n"
     ]
    }
   ],
   "source": [
    "#Example 3: Convert NaN to Empty String in Pandas\n",
    "\n",
    "#Use df.replace(np.nan,'',regex=True) method to replace all NaN values to an empty string in the Pandas DataFrame column.\n",
    "\n",
    "import pandas as pd\n",
    "import numpy as np\n",
    "technologies = {\n",
    "    'Courses':[\"Spark\",np.nan,\"Hadoop\",\"Python\",\"pandas\",np.nan,\"Java\"],\n",
    "    'Fee' :[20000,25000, np.nan,22000,24000,np.nan,22000],\n",
    "    'Duration':[np.nan,'40days','35days', np.nan,'60days','50days','55days'],\n",
    "    'Discount':[1000,np.nan,1500,np.nan,2500,2100,np.nan]\n",
    "              }\n",
    "df = pd.DataFrame(technologies)\n",
    "df2 = df.replace(np.nan, '', regex=True)\n",
    "print(df2)\n"
   ]
  },
  {
   "cell_type": "code",
   "execution_count": 8,
   "metadata": {},
   "outputs": [
    {
     "name": "stdout",
     "output_type": "stream",
     "text": [
      "   Courses      Fee\n",
      "0    Spark  20000.0\n",
      "1  PENDING  25000.0\n",
      "2   Hadoop  PENDING\n",
      "3   Python  22000.0\n",
      "4   pandas  24000.0\n",
      "5  PENDING  PENDING\n",
      "6     Java  22000.0\n"
     ]
    }
   ],
   "source": [
    "#Example 4: Multiple Columns Replace Empty String\n",
    "\n",
    "'''\n",
    "In order to replace NaN values with Blank strings on multiple columns or all columns from a list, use df[['Courses','Fee']] = df[['Courses','Fee']].fillna(''). \n",
    "This replaces NaN values on Courses and Fee columns.\n",
    "'''\n",
    "\n",
    "import pandas as pd\n",
    "import numpy as np\n",
    "technologies = {\n",
    "    'Courses':[\"Spark\",np.nan,\"Hadoop\",\"Python\",\"pandas\",np.nan,\"Java\"],\n",
    "    'Fee' :[20000,25000, np.nan,22000,24000,np.nan,22000],\n",
    "    'Duration':[np.nan,'40days','35days', np.nan,'60days','50days','55days'],\n",
    "    'Discount':[1000,np.nan,1500,np.nan,2500,2100,np.nan]\n",
    "              }\n",
    "df = pd.DataFrame(technologies)\n",
    "\n",
    "# Using multiple columns \n",
    "df2 = df[['Courses','Fee' ]] = df[['Courses','Fee' ]].fillna('PENDING')\n",
    "print(df2)\n"
   ]
  },
  {
   "cell_type": "code",
   "execution_count": 9,
   "metadata": {},
   "outputs": [
    {
     "name": "stdout",
     "output_type": "stream",
     "text": [
      "None\n"
     ]
    },
    {
     "name": "stderr",
     "output_type": "stream",
     "text": [
      "C:\\Users\\SGKsk\\AppData\\Local\\Temp\\ipykernel_21256\\921618274.py:20: FutureWarning: Setting an item of incompatible dtype is deprecated and will raise an error in a future version of pandas. Value '' has dtype incompatible with float64, please explicitly cast to a compatible dtype first.\n",
      "  df2 = df.fillna('', inplace=True)\n"
     ]
    }
   ],
   "source": [
    "#Example 5: fillna() with inplace=True\n",
    "\n",
    "'''\n",
    "Notice that the above output after applying fillna() function returns a new DataFrame. \n",
    "In order to update the current/referring DataFrame in place, use df.fillna('',inplace=True). \n",
    "When using this, the fillna() method returns the None type.\n",
    "'''\n",
    "\n",
    "#fillna() with inplace=True\n",
    "import pandas as pd\n",
    "import numpy as np\n",
    "technologies = {\n",
    "    'Courses':[\"Spark\",np.nan,\"Hadoop\",\"Python\",\"pandas\",np.nan,\"Java\"],\n",
    "    'Fee' :[20000,25000, np.nan,22000,24000,np.nan,22000],\n",
    "    'Duration':[np.nan,'40days','35days', np.nan,'60days','50days','55days'],\n",
    "    'Discount':[1000,np.nan,1500,np.nan,2500,2100,np.nan]\n",
    "              }\n",
    "df = pd.DataFrame(technologies)\n",
    "# Using pandas replace nan with null\n",
    "df2 = df.fillna('', inplace=True)\n",
    "print(df2)\n"
   ]
  },
  {
   "cell_type": "code",
   "execution_count": 14,
   "metadata": {},
   "outputs": [
    {
     "name": "stdout",
     "output_type": "stream",
     "text": [
      "============Before Handling missing values=====\n",
      "        Name   Age  Weight     Salary\n",
      "0      James  36.0    75.0  5428000.0\n",
      "1    Villers  38.0    74.0  3428000.0\n",
      "2      VKole  31.0    70.0  8428000.0\n",
      "3      Smith  34.0    80.0  4428000.0\n",
      "4      Gayle  40.0   100.0  4528000.0\n",
      "5       Adam  40.0     NaN  4528000.0\n",
      "6     Rooter  33.0    72.0  7028000.0\n",
      "7   Peterson  42.0    85.0  2528000.0\n",
      "8      lynda  42.0    85.0        NaN\n",
      "9       <NA>  42.0    85.0        NaN\n",
      "10     Jenny   NaN   100.0    25632.0\n",
      "11      Kenn   NaN   110.0    25632.0\n",
      "12       Aly   NaN    90.0    25582.0\n",
      "13      John  41.0    85.0  1528000.0\n",
      "14       Ali  26.0    69.0        NaN\n",
      "===========After Handling missing values using fillna()=====\n",
      "                    Name      Age   Weight     Salary\n",
      "0                  James     36.0     75.0  5428000.0\n",
      "1                Villers     38.0     74.0  3428000.0\n",
      "2                  VKole     31.0     70.0  8428000.0\n",
      "3                  Smith     34.0     80.0  4428000.0\n",
      "4                  Gayle     40.0    100.0  4528000.0\n",
      "5                   Adam     40.0  pending  4528000.0\n",
      "6                 Rooter     33.0     72.0  7028000.0\n",
      "7               Peterson     42.0     85.0  2528000.0\n",
      "8                  lynda     42.0     85.0        0.0\n",
      "9   Verification Pending     42.0     85.0        0.0\n",
      "10                 Jenny  Unknown    100.0    25632.0\n",
      "11                  Kenn  Unknown    110.0    25632.0\n",
      "12                   Aly  Unknown     90.0    25582.0\n",
      "13                  John     41.0     85.0  1528000.0\n",
      "14                   Ali     26.0     69.0        0.0\n"
     ]
    }
   ],
   "source": [
    "#Example 6: Handling Missing Data from CSV file\n",
    "\n",
    "#downloaded employee.csv\n",
    "\n",
    "import pandas as pd\n",
    "df = pd.read_csv('C:\\\\Users\\\\SGKsk\\\\Development - Per Scholas\\\\2024-RTT-107-Sharon\\\\employee.csv', dtype={'Name':'string' })\n",
    "\n",
    "\n",
    "print('============Before Handling missing values=====')\n",
    "print(df)\n",
    "\n",
    "\n",
    "print('===========After Handling missing values using fillna()=====')\n",
    "df2 = df.fillna(value={'Name':'Verification Pending','Age':\"Unknown\", 'Weight': \"pending\", 'Salary': 0.0})\n",
    "print(df2)"
   ]
  },
  {
   "cell_type": "code",
   "execution_count": null,
   "metadata": {},
   "outputs": [],
   "source": []
  }
 ],
 "metadata": {
  "kernelspec": {
   "display_name": "Python 3",
   "language": "python",
   "name": "python3"
  },
  "language_info": {
   "codemirror_mode": {
    "name": "ipython",
    "version": 3
   },
   "file_extension": ".py",
   "mimetype": "text/x-python",
   "name": "python",
   "nbconvert_exporter": "python",
   "pygments_lexer": "ipython3",
   "version": "3.11.9"
  }
 },
 "nbformat": 4,
 "nbformat_minor": 2
}
